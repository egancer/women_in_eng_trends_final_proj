{
 "cells": [
  {
   "cell_type": "markdown",
   "id": "99d331b5",
   "metadata": {},
   "source": [
    "## This will use 2014 data with matching 2020 data for a paired t test"
   ]
  },
  {
   "cell_type": "code",
   "execution_count": 1,
   "id": "6e43210b",
   "metadata": {},
   "outputs": [],
   "source": [
    "import pandas as pd"
   ]
  },
  {
   "cell_type": "code",
   "execution_count": 2,
   "id": "623b6256",
   "metadata": {},
   "outputs": [],
   "source": [
    "#import datasets\n",
    "df2012 = pd.read_csv(\"geo_df2012.csv\")\n",
    "df2020 = pd.read_csv(\"geo_df2020.csv\")"
   ]
  },
  {
   "cell_type": "code",
   "execution_count": 3,
   "id": "05d0aab9",
   "metadata": {},
   "outputs": [
    {
     "name": "stdout",
     "output_type": "stream",
     "text": [
      "<class 'pandas.core.frame.DataFrame'>\n",
      "RangeIndex: 603 entries, 0 to 602\n",
      "Data columns (total 12 columns):\n",
      " #   Column     Non-Null Count  Dtype  \n",
      "---  ------     --------------  -----  \n",
      " 0   UNITID     603 non-null    int64  \n",
      " 1   EFTOTLT    603 non-null    int64  \n",
      " 2   EFTOTLM    603 non-null    int64  \n",
      " 3   EFTOTLW    603 non-null    int64  \n",
      " 4   W/M_Ratio  603 non-null    float64\n",
      " 5   INSTNM     603 non-null    object \n",
      " 6   CITY       603 non-null    object \n",
      " 7   STABBR     603 non-null    object \n",
      " 8   ZIP        603 non-null    object \n",
      " 9   LATITUDE   603 non-null    float64\n",
      " 10  LONGITUDE  603 non-null    float64\n",
      " 11  geometry   603 non-null    object \n",
      "dtypes: float64(3), int64(4), object(5)\n",
      "memory usage: 56.7+ KB\n"
     ]
    }
   ],
   "source": [
    "#look at the column names\n",
    "df2012.info()"
   ]
  },
  {
   "cell_type": "code",
   "execution_count": 4,
   "id": "e4ba7100",
   "metadata": {},
   "outputs": [],
   "source": [
    "#rename columns for clarity and to match the 2000 dataset\n",
    "df2012.rename(columns={'EFTOTLM' : 'MEN', 'EFTOTLW' : 'WOMEN', 'EFTOTLT': 'TOTALSTUDENTS'}, inplace=True)"
   ]
  },
  {
   "cell_type": "code",
   "execution_count": 5,
   "id": "ed5175bb",
   "metadata": {},
   "outputs": [
    {
     "data": {
      "text/html": [
       "<div>\n",
       "<style scoped>\n",
       "    .dataframe tbody tr th:only-of-type {\n",
       "        vertical-align: middle;\n",
       "    }\n",
       "\n",
       "    .dataframe tbody tr th {\n",
       "        vertical-align: top;\n",
       "    }\n",
       "\n",
       "    .dataframe thead th {\n",
       "        text-align: right;\n",
       "    }\n",
       "</style>\n",
       "<table border=\"1\" class=\"dataframe\">\n",
       "  <thead>\n",
       "    <tr style=\"text-align: right;\">\n",
       "      <th></th>\n",
       "      <th>UNITID</th>\n",
       "      <th>TOTALSTUDENTS</th>\n",
       "      <th>MEN</th>\n",
       "      <th>WOMEN</th>\n",
       "      <th>W/M_Ratio</th>\n",
       "      <th>INSTNM</th>\n",
       "      <th>CITY</th>\n",
       "      <th>STABBR</th>\n",
       "      <th>ZIP</th>\n",
       "      <th>LATITUDE</th>\n",
       "      <th>LONGITUDE</th>\n",
       "      <th>geometry</th>\n",
       "      <th>PERCENT_WOMEN</th>\n",
       "    </tr>\n",
       "  </thead>\n",
       "  <tbody>\n",
       "    <tr>\n",
       "      <th>0</th>\n",
       "      <td>100654</td>\n",
       "      <td>438</td>\n",
       "      <td>352</td>\n",
       "      <td>86</td>\n",
       "      <td>0.244318</td>\n",
       "      <td>Alabama A &amp; M University</td>\n",
       "      <td>Normal</td>\n",
       "      <td>AL</td>\n",
       "      <td>35762</td>\n",
       "      <td>34.783368</td>\n",
       "      <td>-86.568502</td>\n",
       "      <td>POINT (-86.568502 34.783368)</td>\n",
       "      <td>0.196347</td>\n",
       "    </tr>\n",
       "    <tr>\n",
       "      <th>1</th>\n",
       "      <td>100663</td>\n",
       "      <td>445</td>\n",
       "      <td>344</td>\n",
       "      <td>101</td>\n",
       "      <td>0.293605</td>\n",
       "      <td>University of Alabama at Birmingham</td>\n",
       "      <td>Birmingham</td>\n",
       "      <td>AL</td>\n",
       "      <td>35294-0110</td>\n",
       "      <td>33.505697</td>\n",
       "      <td>-86.799345</td>\n",
       "      <td>POINT (-86.799345 33.505697)</td>\n",
       "      <td>0.226966</td>\n",
       "    </tr>\n",
       "    <tr>\n",
       "      <th>2</th>\n",
       "      <td>100706</td>\n",
       "      <td>1758</td>\n",
       "      <td>1405</td>\n",
       "      <td>353</td>\n",
       "      <td>0.251246</td>\n",
       "      <td>University of Alabama in Huntsville</td>\n",
       "      <td>Huntsville</td>\n",
       "      <td>AL</td>\n",
       "      <td>35899</td>\n",
       "      <td>34.724557</td>\n",
       "      <td>-86.640449</td>\n",
       "      <td>POINT (-86.640449 34.724557)</td>\n",
       "      <td>0.200796</td>\n",
       "    </tr>\n",
       "    <tr>\n",
       "      <th>3</th>\n",
       "      <td>100751</td>\n",
       "      <td>3156</td>\n",
       "      <td>2512</td>\n",
       "      <td>644</td>\n",
       "      <td>0.256369</td>\n",
       "      <td>The University of Alabama</td>\n",
       "      <td>Tuscaloosa</td>\n",
       "      <td>AL</td>\n",
       "      <td>35487-0100</td>\n",
       "      <td>33.211875</td>\n",
       "      <td>-87.545978</td>\n",
       "      <td>POINT (-87.54597800000001 33.211875)</td>\n",
       "      <td>0.204056</td>\n",
       "    </tr>\n",
       "    <tr>\n",
       "      <th>4</th>\n",
       "      <td>100858</td>\n",
       "      <td>4294</td>\n",
       "      <td>3589</td>\n",
       "      <td>705</td>\n",
       "      <td>0.196434</td>\n",
       "      <td>Auburn University</td>\n",
       "      <td>Auburn</td>\n",
       "      <td>AL</td>\n",
       "      <td>36849</td>\n",
       "      <td>32.599378</td>\n",
       "      <td>-85.488258</td>\n",
       "      <td>POINT (-85.488258 32.599378)</td>\n",
       "      <td>0.164183</td>\n",
       "    </tr>\n",
       "  </tbody>\n",
       "</table>\n",
       "</div>"
      ],
      "text/plain": [
       "   UNITID  TOTALSTUDENTS   MEN  WOMEN  W/M_Ratio  \\\n",
       "0  100654            438   352     86   0.244318   \n",
       "1  100663            445   344    101   0.293605   \n",
       "2  100706           1758  1405    353   0.251246   \n",
       "3  100751           3156  2512    644   0.256369   \n",
       "4  100858           4294  3589    705   0.196434   \n",
       "\n",
       "                                INSTNM        CITY STABBR         ZIP  \\\n",
       "0             Alabama A & M University      Normal     AL       35762   \n",
       "1  University of Alabama at Birmingham  Birmingham     AL  35294-0110   \n",
       "2  University of Alabama in Huntsville  Huntsville     AL       35899   \n",
       "3            The University of Alabama  Tuscaloosa     AL  35487-0100   \n",
       "4                    Auburn University      Auburn     AL       36849   \n",
       "\n",
       "    LATITUDE  LONGITUDE                              geometry  PERCENT_WOMEN  \n",
       "0  34.783368 -86.568502          POINT (-86.568502 34.783368)       0.196347  \n",
       "1  33.505697 -86.799345          POINT (-86.799345 33.505697)       0.226966  \n",
       "2  34.724557 -86.640449          POINT (-86.640449 34.724557)       0.200796  \n",
       "3  33.211875 -87.545978  POINT (-87.54597800000001 33.211875)       0.204056  \n",
       "4  32.599378 -85.488258          POINT (-85.488258 32.599378)       0.164183  "
      ]
     },
     "execution_count": 5,
     "metadata": {},
     "output_type": "execute_result"
    }
   ],
   "source": [
    "#add a \"percent women\" column\n",
    "df2012['PERCENT_WOMEN'] = df2012['WOMEN']/df2012['TOTALSTUDENTS']\n",
    "df2012.head()"
   ]
  },
  {
   "cell_type": "code",
   "execution_count": 6,
   "id": "60604b73",
   "metadata": {},
   "outputs": [
    {
     "name": "stdout",
     "output_type": "stream",
     "text": [
      "<class 'pandas.core.frame.DataFrame'>\n",
      "RangeIndex: 802 entries, 0 to 801\n",
      "Data columns (total 12 columns):\n",
      " #   Column     Non-Null Count  Dtype  \n",
      "---  ------     --------------  -----  \n",
      " 0   UNITID     802 non-null    int64  \n",
      " 1   EFTOTLT    802 non-null    int64  \n",
      " 2   EFTOTLM    802 non-null    int64  \n",
      " 3   EFTOTLW    802 non-null    int64  \n",
      " 4   W/M_Ratio  802 non-null    float64\n",
      " 5   INSTNM     802 non-null    object \n",
      " 6   CITY       802 non-null    object \n",
      " 7   STABBR     802 non-null    object \n",
      " 8   ZIP        802 non-null    object \n",
      " 9   LATITUDE   802 non-null    float64\n",
      " 10  LONGITUDE  802 non-null    float64\n",
      " 11  geometry   802 non-null    object \n",
      "dtypes: float64(3), int64(4), object(5)\n",
      "memory usage: 75.3+ KB\n"
     ]
    }
   ],
   "source": [
    "#examine the dataset column names\n",
    "df2020.info()"
   ]
  },
  {
   "cell_type": "code",
   "execution_count": 7,
   "id": "4069750f",
   "metadata": {},
   "outputs": [],
   "source": [
    "#rename columns for clarity and to match the 2000 dataset\n",
    "df2020.rename(columns={'EFTOTLM' : 'MEN', 'EFTOTLW' : 'WOMEN', 'EFTOTLT': 'TOTALSTUDENTS'}, inplace=True)"
   ]
  },
  {
   "cell_type": "code",
   "execution_count": 8,
   "id": "b62d8751",
   "metadata": {
    "scrolled": false
   },
   "outputs": [
    {
     "data": {
      "text/html": [
       "<div>\n",
       "<style scoped>\n",
       "    .dataframe tbody tr th:only-of-type {\n",
       "        vertical-align: middle;\n",
       "    }\n",
       "\n",
       "    .dataframe tbody tr th {\n",
       "        vertical-align: top;\n",
       "    }\n",
       "\n",
       "    .dataframe thead th {\n",
       "        text-align: right;\n",
       "    }\n",
       "</style>\n",
       "<table border=\"1\" class=\"dataframe\">\n",
       "  <thead>\n",
       "    <tr style=\"text-align: right;\">\n",
       "      <th></th>\n",
       "      <th>UNITID</th>\n",
       "      <th>TOTALSTUDENTS</th>\n",
       "      <th>MEN</th>\n",
       "      <th>WOMEN</th>\n",
       "      <th>W/M_Ratio</th>\n",
       "      <th>INSTNM</th>\n",
       "      <th>CITY</th>\n",
       "      <th>STABBR</th>\n",
       "      <th>ZIP</th>\n",
       "      <th>LATITUDE</th>\n",
       "      <th>LONGITUDE</th>\n",
       "      <th>geometry</th>\n",
       "      <th>PERCENT_WOMEN</th>\n",
       "    </tr>\n",
       "  </thead>\n",
       "  <tbody>\n",
       "    <tr>\n",
       "      <th>0</th>\n",
       "      <td>100654</td>\n",
       "      <td>5706</td>\n",
       "      <td>4188</td>\n",
       "      <td>1518</td>\n",
       "      <td>0.362464</td>\n",
       "      <td>Alabama A &amp; M University</td>\n",
       "      <td>Normal</td>\n",
       "      <td>AL</td>\n",
       "      <td>35762</td>\n",
       "      <td>34.783368</td>\n",
       "      <td>-86.568502</td>\n",
       "      <td>POINT (-86.568502 34.783368)</td>\n",
       "      <td>0.266036</td>\n",
       "    </tr>\n",
       "    <tr>\n",
       "      <th>1</th>\n",
       "      <td>100663</td>\n",
       "      <td>7706</td>\n",
       "      <td>5438</td>\n",
       "      <td>2268</td>\n",
       "      <td>0.417065</td>\n",
       "      <td>University of Alabama at Birmingham</td>\n",
       "      <td>Birmingham</td>\n",
       "      <td>AL</td>\n",
       "      <td>35294-0110</td>\n",
       "      <td>33.505697</td>\n",
       "      <td>-86.799345</td>\n",
       "      <td>POINT (-86.799345 33.505697)</td>\n",
       "      <td>0.294316</td>\n",
       "    </tr>\n",
       "    <tr>\n",
       "      <th>2</th>\n",
       "      <td>100706</td>\n",
       "      <td>28774</td>\n",
       "      <td>22734</td>\n",
       "      <td>6040</td>\n",
       "      <td>0.265681</td>\n",
       "      <td>University of Alabama in Huntsville</td>\n",
       "      <td>Huntsville</td>\n",
       "      <td>AL</td>\n",
       "      <td>35899</td>\n",
       "      <td>34.724557</td>\n",
       "      <td>-86.640449</td>\n",
       "      <td>POINT (-86.640449 34.724557)</td>\n",
       "      <td>0.209912</td>\n",
       "    </tr>\n",
       "    <tr>\n",
       "      <th>3</th>\n",
       "      <td>100724</td>\n",
       "      <td>558</td>\n",
       "      <td>260</td>\n",
       "      <td>298</td>\n",
       "      <td>1.146154</td>\n",
       "      <td>Alabama State University</td>\n",
       "      <td>Montgomery</td>\n",
       "      <td>AL</td>\n",
       "      <td>36104-0271</td>\n",
       "      <td>32.364317</td>\n",
       "      <td>-86.295677</td>\n",
       "      <td>POINT (-86.295677 32.364317)</td>\n",
       "      <td>0.534050</td>\n",
       "    </tr>\n",
       "    <tr>\n",
       "      <th>4</th>\n",
       "      <td>100751</td>\n",
       "      <td>43824</td>\n",
       "      <td>34070</td>\n",
       "      <td>9754</td>\n",
       "      <td>0.286293</td>\n",
       "      <td>The University of Alabama</td>\n",
       "      <td>Tuscaloosa</td>\n",
       "      <td>AL</td>\n",
       "      <td>35487-0100</td>\n",
       "      <td>33.211875</td>\n",
       "      <td>-87.545978</td>\n",
       "      <td>POINT (-87.54597800000001 33.211875)</td>\n",
       "      <td>0.222572</td>\n",
       "    </tr>\n",
       "  </tbody>\n",
       "</table>\n",
       "</div>"
      ],
      "text/plain": [
       "   UNITID  TOTALSTUDENTS    MEN  WOMEN  W/M_Ratio  \\\n",
       "0  100654           5706   4188   1518   0.362464   \n",
       "1  100663           7706   5438   2268   0.417065   \n",
       "2  100706          28774  22734   6040   0.265681   \n",
       "3  100724            558    260    298   1.146154   \n",
       "4  100751          43824  34070   9754   0.286293   \n",
       "\n",
       "                                INSTNM        CITY STABBR         ZIP  \\\n",
       "0             Alabama A & M University      Normal     AL       35762   \n",
       "1  University of Alabama at Birmingham  Birmingham     AL  35294-0110   \n",
       "2  University of Alabama in Huntsville  Huntsville     AL       35899   \n",
       "3             Alabama State University  Montgomery     AL  36104-0271   \n",
       "4            The University of Alabama  Tuscaloosa     AL  35487-0100   \n",
       "\n",
       "    LATITUDE  LONGITUDE                              geometry  PERCENT_WOMEN  \n",
       "0  34.783368 -86.568502          POINT (-86.568502 34.783368)       0.266036  \n",
       "1  33.505697 -86.799345          POINT (-86.799345 33.505697)       0.294316  \n",
       "2  34.724557 -86.640449          POINT (-86.640449 34.724557)       0.209912  \n",
       "3  32.364317 -86.295677          POINT (-86.295677 32.364317)       0.534050  \n",
       "4  33.211875 -87.545978  POINT (-87.54597800000001 33.211875)       0.222572  "
      ]
     },
     "execution_count": 8,
     "metadata": {},
     "output_type": "execute_result"
    }
   ],
   "source": [
    "#add a \"percent women\" column\n",
    "df2020['PERCENT_WOMEN'] = df2020['WOMEN']/df2020['TOTALSTUDENTS']\n",
    "df2020.head()"
   ]
  },
  {
   "cell_type": "markdown",
   "id": "9560f203",
   "metadata": {},
   "source": [
    "There are 627 schools in 2012, but 802 in 2020. \n",
    "<br>\n",
    "For a true matched t-test we have to be comparing the same thing.\n",
    "<br>\n",
    "I'm going to join the two dataframes with a left join and keep only the matching values."
   ]
  },
  {
   "cell_type": "code",
   "execution_count": 9,
   "id": "e16dbd09",
   "metadata": {},
   "outputs": [
    {
     "name": "stdout",
     "output_type": "stream",
     "text": [
      "<class 'pandas.core.frame.DataFrame'>\n",
      "Int64Index: 603 entries, 0 to 602\n",
      "Data columns (total 25 columns):\n",
      " #   Column           Non-Null Count  Dtype  \n",
      "---  ------           --------------  -----  \n",
      " 0   UNITID           603 non-null    int64  \n",
      " 1   TOTALSTUDENTS_x  603 non-null    int64  \n",
      " 2   MEN_x            603 non-null    int64  \n",
      " 3   WOMEN_x          603 non-null    int64  \n",
      " 4   W/M_Ratio_x      603 non-null    float64\n",
      " 5   INSTNM_x         603 non-null    object \n",
      " 6   CITY_x           603 non-null    object \n",
      " 7   STABBR_x         603 non-null    object \n",
      " 8   ZIP_x            603 non-null    object \n",
      " 9   LATITUDE_x       603 non-null    float64\n",
      " 10  LONGITUDE_x      603 non-null    float64\n",
      " 11  geometry_x       603 non-null    object \n",
      " 12  PERCENT_WOMEN_x  603 non-null    float64\n",
      " 13  TOTALSTUDENTS_y  546 non-null    float64\n",
      " 14  MEN_y            546 non-null    float64\n",
      " 15  WOMEN_y          546 non-null    float64\n",
      " 16  W/M_Ratio_y      546 non-null    float64\n",
      " 17  INSTNM_y         546 non-null    object \n",
      " 18  CITY_y           546 non-null    object \n",
      " 19  STABBR_y         546 non-null    object \n",
      " 20  ZIP_y            546 non-null    object \n",
      " 21  LATITUDE_y       546 non-null    float64\n",
      " 22  LONGITUDE_y      546 non-null    float64\n",
      " 23  geometry_y       546 non-null    object \n",
      " 24  PERCENT_WOMEN_y  546 non-null    float64\n",
      "dtypes: float64(11), int64(4), object(10)\n",
      "memory usage: 122.5+ KB\n"
     ]
    }
   ],
   "source": [
    "# perform a left join on the UNITID column\n",
    "df2012_2020 = pd.merge(df2012, df2020, on= \"UNITID\", how = 'left')\n",
    "df2012_2020.info()"
   ]
  },
  {
   "cell_type": "code",
   "execution_count": 10,
   "id": "62063bb6",
   "metadata": {
    "scrolled": false
   },
   "outputs": [
    {
     "data": {
      "text/html": [
       "<div>\n",
       "<style scoped>\n",
       "    .dataframe tbody tr th:only-of-type {\n",
       "        vertical-align: middle;\n",
       "    }\n",
       "\n",
       "    .dataframe tbody tr th {\n",
       "        vertical-align: top;\n",
       "    }\n",
       "\n",
       "    .dataframe thead th {\n",
       "        text-align: right;\n",
       "    }\n",
       "</style>\n",
       "<table border=\"1\" class=\"dataframe\">\n",
       "  <thead>\n",
       "    <tr style=\"text-align: right;\">\n",
       "      <th></th>\n",
       "      <th>UNITID</th>\n",
       "      <th>TOTALSTUDENTS_x</th>\n",
       "      <th>MEN_x</th>\n",
       "      <th>WOMEN_x</th>\n",
       "      <th>W/M_Ratio_x</th>\n",
       "      <th>INSTNM_x</th>\n",
       "      <th>CITY_x</th>\n",
       "      <th>STABBR_x</th>\n",
       "      <th>ZIP_x</th>\n",
       "      <th>LATITUDE_x</th>\n",
       "      <th>...</th>\n",
       "      <th>WOMEN_y</th>\n",
       "      <th>W/M_Ratio_y</th>\n",
       "      <th>INSTNM_y</th>\n",
       "      <th>CITY_y</th>\n",
       "      <th>STABBR_y</th>\n",
       "      <th>ZIP_y</th>\n",
       "      <th>LATITUDE_y</th>\n",
       "      <th>LONGITUDE_y</th>\n",
       "      <th>geometry_y</th>\n",
       "      <th>PERCENT_WOMEN_y</th>\n",
       "    </tr>\n",
       "  </thead>\n",
       "  <tbody>\n",
       "    <tr>\n",
       "      <th>0</th>\n",
       "      <td>100654</td>\n",
       "      <td>438</td>\n",
       "      <td>352</td>\n",
       "      <td>86</td>\n",
       "      <td>0.244318</td>\n",
       "      <td>Alabama A &amp; M University</td>\n",
       "      <td>Normal</td>\n",
       "      <td>AL</td>\n",
       "      <td>35762</td>\n",
       "      <td>34.783368</td>\n",
       "      <td>...</td>\n",
       "      <td>1518.0</td>\n",
       "      <td>0.362464</td>\n",
       "      <td>Alabama A &amp; M University</td>\n",
       "      <td>Normal</td>\n",
       "      <td>AL</td>\n",
       "      <td>35762</td>\n",
       "      <td>34.783368</td>\n",
       "      <td>-86.568502</td>\n",
       "      <td>POINT (-86.568502 34.783368)</td>\n",
       "      <td>0.266036</td>\n",
       "    </tr>\n",
       "    <tr>\n",
       "      <th>1</th>\n",
       "      <td>100663</td>\n",
       "      <td>445</td>\n",
       "      <td>344</td>\n",
       "      <td>101</td>\n",
       "      <td>0.293605</td>\n",
       "      <td>University of Alabama at Birmingham</td>\n",
       "      <td>Birmingham</td>\n",
       "      <td>AL</td>\n",
       "      <td>35294-0110</td>\n",
       "      <td>33.505697</td>\n",
       "      <td>...</td>\n",
       "      <td>2268.0</td>\n",
       "      <td>0.417065</td>\n",
       "      <td>University of Alabama at Birmingham</td>\n",
       "      <td>Birmingham</td>\n",
       "      <td>AL</td>\n",
       "      <td>35294-0110</td>\n",
       "      <td>33.505697</td>\n",
       "      <td>-86.799345</td>\n",
       "      <td>POINT (-86.799345 33.505697)</td>\n",
       "      <td>0.294316</td>\n",
       "    </tr>\n",
       "    <tr>\n",
       "      <th>2</th>\n",
       "      <td>100706</td>\n",
       "      <td>1758</td>\n",
       "      <td>1405</td>\n",
       "      <td>353</td>\n",
       "      <td>0.251246</td>\n",
       "      <td>University of Alabama in Huntsville</td>\n",
       "      <td>Huntsville</td>\n",
       "      <td>AL</td>\n",
       "      <td>35899</td>\n",
       "      <td>34.724557</td>\n",
       "      <td>...</td>\n",
       "      <td>6040.0</td>\n",
       "      <td>0.265681</td>\n",
       "      <td>University of Alabama in Huntsville</td>\n",
       "      <td>Huntsville</td>\n",
       "      <td>AL</td>\n",
       "      <td>35899</td>\n",
       "      <td>34.724557</td>\n",
       "      <td>-86.640449</td>\n",
       "      <td>POINT (-86.640449 34.724557)</td>\n",
       "      <td>0.209912</td>\n",
       "    </tr>\n",
       "    <tr>\n",
       "      <th>3</th>\n",
       "      <td>100751</td>\n",
       "      <td>3156</td>\n",
       "      <td>2512</td>\n",
       "      <td>644</td>\n",
       "      <td>0.256369</td>\n",
       "      <td>The University of Alabama</td>\n",
       "      <td>Tuscaloosa</td>\n",
       "      <td>AL</td>\n",
       "      <td>35487-0100</td>\n",
       "      <td>33.211875</td>\n",
       "      <td>...</td>\n",
       "      <td>9754.0</td>\n",
       "      <td>0.286293</td>\n",
       "      <td>The University of Alabama</td>\n",
       "      <td>Tuscaloosa</td>\n",
       "      <td>AL</td>\n",
       "      <td>35487-0100</td>\n",
       "      <td>33.211875</td>\n",
       "      <td>-87.545978</td>\n",
       "      <td>POINT (-87.54597800000001 33.211875)</td>\n",
       "      <td>0.222572</td>\n",
       "    </tr>\n",
       "    <tr>\n",
       "      <th>4</th>\n",
       "      <td>100858</td>\n",
       "      <td>4294</td>\n",
       "      <td>3589</td>\n",
       "      <td>705</td>\n",
       "      <td>0.196434</td>\n",
       "      <td>Auburn University</td>\n",
       "      <td>Auburn</td>\n",
       "      <td>AL</td>\n",
       "      <td>36849</td>\n",
       "      <td>32.599378</td>\n",
       "      <td>...</td>\n",
       "      <td>10610.0</td>\n",
       "      <td>0.251792</td>\n",
       "      <td>Auburn University</td>\n",
       "      <td>Auburn</td>\n",
       "      <td>AL</td>\n",
       "      <td>36849</td>\n",
       "      <td>32.599378</td>\n",
       "      <td>-85.488258</td>\n",
       "      <td>POINT (-85.488258 32.599378)</td>\n",
       "      <td>0.201145</td>\n",
       "    </tr>\n",
       "    <tr>\n",
       "      <th>...</th>\n",
       "      <td>...</td>\n",
       "      <td>...</td>\n",
       "      <td>...</td>\n",
       "      <td>...</td>\n",
       "      <td>...</td>\n",
       "      <td>...</td>\n",
       "      <td>...</td>\n",
       "      <td>...</td>\n",
       "      <td>...</td>\n",
       "      <td>...</td>\n",
       "      <td>...</td>\n",
       "      <td>...</td>\n",
       "      <td>...</td>\n",
       "      <td>...</td>\n",
       "      <td>...</td>\n",
       "      <td>...</td>\n",
       "      <td>...</td>\n",
       "      <td>...</td>\n",
       "      <td>...</td>\n",
       "      <td>...</td>\n",
       "      <td>...</td>\n",
       "    </tr>\n",
       "    <tr>\n",
       "      <th>598</th>\n",
       "      <td>443410</td>\n",
       "      <td>24</td>\n",
       "      <td>19</td>\n",
       "      <td>5</td>\n",
       "      <td>0.263158</td>\n",
       "      <td>DigiPen Institute of Technology</td>\n",
       "      <td>Redmond</td>\n",
       "      <td>WA</td>\n",
       "      <td>98052</td>\n",
       "      <td>47.688710</td>\n",
       "      <td>...</td>\n",
       "      <td>76.0</td>\n",
       "      <td>0.238994</td>\n",
       "      <td>DigiPen Institute of Technology</td>\n",
       "      <td>Redmond</td>\n",
       "      <td>WA</td>\n",
       "      <td>98052</td>\n",
       "      <td>47.688710</td>\n",
       "      <td>-122.150603</td>\n",
       "      <td>POINT (-122.150603 47.68871)</td>\n",
       "      <td>0.192893</td>\n",
       "    </tr>\n",
       "    <tr>\n",
       "      <th>599</th>\n",
       "      <td>443562</td>\n",
       "      <td>81</td>\n",
       "      <td>27</td>\n",
       "      <td>54</td>\n",
       "      <td>2.000000</td>\n",
       "      <td>Dewey University-Hato Rey</td>\n",
       "      <td>Hato Rey</td>\n",
       "      <td>PR</td>\n",
       "      <td>910</td>\n",
       "      <td>18.417614</td>\n",
       "      <td>...</td>\n",
       "      <td>NaN</td>\n",
       "      <td>NaN</td>\n",
       "      <td>NaN</td>\n",
       "      <td>NaN</td>\n",
       "      <td>NaN</td>\n",
       "      <td>NaN</td>\n",
       "      <td>NaN</td>\n",
       "      <td>NaN</td>\n",
       "      <td>NaN</td>\n",
       "      <td>NaN</td>\n",
       "    </tr>\n",
       "    <tr>\n",
       "      <th>600</th>\n",
       "      <td>445188</td>\n",
       "      <td>948</td>\n",
       "      <td>781</td>\n",
       "      <td>167</td>\n",
       "      <td>0.213828</td>\n",
       "      <td>University of California-Merced</td>\n",
       "      <td>Merced</td>\n",
       "      <td>CA</td>\n",
       "      <td>95343-5603</td>\n",
       "      <td>37.366237</td>\n",
       "      <td>...</td>\n",
       "      <td>4578.0</td>\n",
       "      <td>0.259700</td>\n",
       "      <td>University of California-Merced</td>\n",
       "      <td>Merced</td>\n",
       "      <td>CA</td>\n",
       "      <td>95343-5603</td>\n",
       "      <td>37.366237</td>\n",
       "      <td>-120.424944</td>\n",
       "      <td>POINT (-120.424944 37.366237)</td>\n",
       "      <td>0.206160</td>\n",
       "    </tr>\n",
       "    <tr>\n",
       "      <th>601</th>\n",
       "      <td>456490</td>\n",
       "      <td>79</td>\n",
       "      <td>65</td>\n",
       "      <td>14</td>\n",
       "      <td>0.215385</td>\n",
       "      <td>Polytechnic University of Puerto Rico-Orlando</td>\n",
       "      <td>Orlando</td>\n",
       "      <td>FL</td>\n",
       "      <td>32825</td>\n",
       "      <td>28.551580</td>\n",
       "      <td>...</td>\n",
       "      <td>412.0</td>\n",
       "      <td>0.426501</td>\n",
       "      <td>Polytechnic University of Puerto Rico-Orlando</td>\n",
       "      <td>Orlando</td>\n",
       "      <td>FL</td>\n",
       "      <td>32825</td>\n",
       "      <td>28.551580</td>\n",
       "      <td>-81.253943</td>\n",
       "      <td>POINT (-81.25394300000001 28.55158)</td>\n",
       "      <td>0.298984</td>\n",
       "    </tr>\n",
       "    <tr>\n",
       "      <th>602</th>\n",
       "      <td>479956</td>\n",
       "      <td>7</td>\n",
       "      <td>7</td>\n",
       "      <td>0</td>\n",
       "      <td>0.000000</td>\n",
       "      <td>Pennsylvania State University-World Campus</td>\n",
       "      <td>University Park</td>\n",
       "      <td>PA</td>\n",
       "      <td>16802-1503</td>\n",
       "      <td>40.832783</td>\n",
       "      <td>...</td>\n",
       "      <td>NaN</td>\n",
       "      <td>NaN</td>\n",
       "      <td>NaN</td>\n",
       "      <td>NaN</td>\n",
       "      <td>NaN</td>\n",
       "      <td>NaN</td>\n",
       "      <td>NaN</td>\n",
       "      <td>NaN</td>\n",
       "      <td>NaN</td>\n",
       "      <td>NaN</td>\n",
       "    </tr>\n",
       "  </tbody>\n",
       "</table>\n",
       "<p>603 rows × 25 columns</p>\n",
       "</div>"
      ],
      "text/plain": [
       "     UNITID  TOTALSTUDENTS_x  MEN_x  WOMEN_x  W/M_Ratio_x  \\\n",
       "0    100654              438    352       86     0.244318   \n",
       "1    100663              445    344      101     0.293605   \n",
       "2    100706             1758   1405      353     0.251246   \n",
       "3    100751             3156   2512      644     0.256369   \n",
       "4    100858             4294   3589      705     0.196434   \n",
       "..      ...              ...    ...      ...          ...   \n",
       "598  443410               24     19        5     0.263158   \n",
       "599  443562               81     27       54     2.000000   \n",
       "600  445188              948    781      167     0.213828   \n",
       "601  456490               79     65       14     0.215385   \n",
       "602  479956                7      7        0     0.000000   \n",
       "\n",
       "                                          INSTNM_x           CITY_x STABBR_x  \\\n",
       "0                         Alabama A & M University           Normal       AL   \n",
       "1              University of Alabama at Birmingham       Birmingham       AL   \n",
       "2              University of Alabama in Huntsville       Huntsville       AL   \n",
       "3                        The University of Alabama       Tuscaloosa       AL   \n",
       "4                                Auburn University           Auburn       AL   \n",
       "..                                             ...              ...      ...   \n",
       "598                DigiPen Institute of Technology          Redmond       WA   \n",
       "599                      Dewey University-Hato Rey         Hato Rey       PR   \n",
       "600                University of California-Merced           Merced       CA   \n",
       "601  Polytechnic University of Puerto Rico-Orlando          Orlando       FL   \n",
       "602     Pennsylvania State University-World Campus  University Park       PA   \n",
       "\n",
       "          ZIP_x  LATITUDE_x  ...  WOMEN_y W/M_Ratio_y  \\\n",
       "0         35762   34.783368  ...   1518.0    0.362464   \n",
       "1    35294-0110   33.505697  ...   2268.0    0.417065   \n",
       "2         35899   34.724557  ...   6040.0    0.265681   \n",
       "3    35487-0100   33.211875  ...   9754.0    0.286293   \n",
       "4         36849   32.599378  ...  10610.0    0.251792   \n",
       "..          ...         ...  ...      ...         ...   \n",
       "598       98052   47.688710  ...     76.0    0.238994   \n",
       "599         910   18.417614  ...      NaN         NaN   \n",
       "600  95343-5603   37.366237  ...   4578.0    0.259700   \n",
       "601       32825   28.551580  ...    412.0    0.426501   \n",
       "602  16802-1503   40.832783  ...      NaN         NaN   \n",
       "\n",
       "                                          INSTNM_y      CITY_y  STABBR_y  \\\n",
       "0                         Alabama A & M University      Normal        AL   \n",
       "1              University of Alabama at Birmingham  Birmingham        AL   \n",
       "2              University of Alabama in Huntsville  Huntsville        AL   \n",
       "3                        The University of Alabama  Tuscaloosa        AL   \n",
       "4                                Auburn University      Auburn        AL   \n",
       "..                                             ...         ...       ...   \n",
       "598                DigiPen Institute of Technology     Redmond        WA   \n",
       "599                                            NaN         NaN       NaN   \n",
       "600                University of California-Merced      Merced        CA   \n",
       "601  Polytechnic University of Puerto Rico-Orlando     Orlando        FL   \n",
       "602                                            NaN         NaN       NaN   \n",
       "\n",
       "          ZIP_y  LATITUDE_y LONGITUDE_y                            geometry_y  \\\n",
       "0         35762   34.783368  -86.568502          POINT (-86.568502 34.783368)   \n",
       "1    35294-0110   33.505697  -86.799345          POINT (-86.799345 33.505697)   \n",
       "2         35899   34.724557  -86.640449          POINT (-86.640449 34.724557)   \n",
       "3    35487-0100   33.211875  -87.545978  POINT (-87.54597800000001 33.211875)   \n",
       "4         36849   32.599378  -85.488258          POINT (-85.488258 32.599378)   \n",
       "..          ...         ...         ...                                   ...   \n",
       "598       98052   47.688710 -122.150603          POINT (-122.150603 47.68871)   \n",
       "599         NaN         NaN         NaN                                   NaN   \n",
       "600  95343-5603   37.366237 -120.424944         POINT (-120.424944 37.366237)   \n",
       "601       32825   28.551580  -81.253943   POINT (-81.25394300000001 28.55158)   \n",
       "602         NaN         NaN         NaN                                   NaN   \n",
       "\n",
       "    PERCENT_WOMEN_y  \n",
       "0          0.266036  \n",
       "1          0.294316  \n",
       "2          0.209912  \n",
       "3          0.222572  \n",
       "4          0.201145  \n",
       "..              ...  \n",
       "598        0.192893  \n",
       "599             NaN  \n",
       "600        0.206160  \n",
       "601        0.298984  \n",
       "602             NaN  \n",
       "\n",
       "[603 rows x 25 columns]"
      ]
     },
     "execution_count": 10,
     "metadata": {},
     "output_type": "execute_result"
    }
   ],
   "source": [
    "df2012_2020"
   ]
  },
  {
   "cell_type": "code",
   "execution_count": 11,
   "id": "11ded2af",
   "metadata": {},
   "outputs": [],
   "source": [
    "# drop any rows with an NA in them - this will eliminate any information from 2012 that does not\n",
    "# have a pair in 2020 and vice versa\n",
    "df2012_2020_1 = df2012_2020.dropna(axis = 0)"
   ]
  },
  {
   "cell_type": "code",
   "execution_count": 12,
   "id": "784fe646",
   "metadata": {},
   "outputs": [
    {
     "name": "stdout",
     "output_type": "stream",
     "text": [
      "<class 'pandas.core.frame.DataFrame'>\n",
      "Int64Index: 546 entries, 0 to 601\n",
      "Data columns (total 25 columns):\n",
      " #   Column           Non-Null Count  Dtype  \n",
      "---  ------           --------------  -----  \n",
      " 0   UNITID           546 non-null    int64  \n",
      " 1   TOTALSTUDENTS_x  546 non-null    int64  \n",
      " 2   MEN_x            546 non-null    int64  \n",
      " 3   WOMEN_x          546 non-null    int64  \n",
      " 4   W/M_Ratio_x      546 non-null    float64\n",
      " 5   INSTNM_x         546 non-null    object \n",
      " 6   CITY_x           546 non-null    object \n",
      " 7   STABBR_x         546 non-null    object \n",
      " 8   ZIP_x            546 non-null    object \n",
      " 9   LATITUDE_x       546 non-null    float64\n",
      " 10  LONGITUDE_x      546 non-null    float64\n",
      " 11  geometry_x       546 non-null    object \n",
      " 12  PERCENT_WOMEN_x  546 non-null    float64\n",
      " 13  TOTALSTUDENTS_y  546 non-null    float64\n",
      " 14  MEN_y            546 non-null    float64\n",
      " 15  WOMEN_y          546 non-null    float64\n",
      " 16  W/M_Ratio_y      546 non-null    float64\n",
      " 17  INSTNM_y         546 non-null    object \n",
      " 18  CITY_y           546 non-null    object \n",
      " 19  STABBR_y         546 non-null    object \n",
      " 20  ZIP_y            546 non-null    object \n",
      " 21  LATITUDE_y       546 non-null    float64\n",
      " 22  LONGITUDE_y      546 non-null    float64\n",
      " 23  geometry_y       546 non-null    object \n",
      " 24  PERCENT_WOMEN_y  546 non-null    float64\n",
      "dtypes: float64(11), int64(4), object(10)\n",
      "memory usage: 110.9+ KB\n"
     ]
    }
   ],
   "source": [
    "df2012_2020_1.info()"
   ]
  },
  {
   "cell_type": "markdown",
   "id": "51df8251",
   "metadata": {},
   "source": [
    "Now we have a dataset containing only the universities with information in both 2012 and 2020.\n",
    "The X columns represent 2012 and Y columns represent 2020 data.\n",
    "\n",
    "Lets perform the dependent T test to see if the means are the same."
   ]
  },
  {
   "cell_type": "code",
   "execution_count": 13,
   "id": "7a3c8faa",
   "metadata": {},
   "outputs": [],
   "source": [
    "#import needed packages\n",
    "from scipy import stats\n",
    "import numpy as np"
   ]
  },
  {
   "cell_type": "markdown",
   "id": "60080e0f",
   "metadata": {},
   "source": [
    "Frist lets check for normality for the percentages of women at each time point."
   ]
  },
  {
   "cell_type": "code",
   "execution_count": 14,
   "id": "5e44acf9",
   "metadata": {},
   "outputs": [
    {
     "data": {
      "text/plain": [
       "<AxesSubplot:>"
      ]
     },
     "execution_count": 14,
     "metadata": {},
     "output_type": "execute_result"
    },
    {
     "data": {
      "image/png": "[encoded data removed]",
      "text/plain": [
       "<Figure size 432x288 with 1 Axes>"
      ]
     },
     "metadata": {
      "needs_background": "light"
     },
     "output_type": "display_data"
    }
   ],
   "source": [
    "df2012_2020_1['PERCENT_WOMEN_x'].hist()"
   ]
  },
  {
   "cell_type": "code",
   "execution_count": 15,
   "id": "ace84a6a",
   "metadata": {},
   "outputs": [
    {
     "data": {
      "text/plain": [
       "<AxesSubplot:>"
      ]
     },
     "execution_count": 15,
     "metadata": {},
     "output_type": "execute_result"
    },
    {
     "data": {
      "image/png": "[encoded data removed]",
      "text/plain": [
       "<Figure size 432x288 with 1 Axes>"
      ]
     },
     "metadata": {
      "needs_background": "light"
     },
     "output_type": "display_data"
    }
   ],
   "source": [
    "df2012_2020_1['PERCENT_WOMEN_y'].hist()"
   ]
  },
  {
   "cell_type": "markdown",
   "id": "151a8d8b",
   "metadata": {},
   "source": [
    "Both have a relatively normal shape here. I'm going to proceed with the test, and then compare the test to one with transformed data to see if there is a difference in the outcome."
   ]
  },
  {
   "cell_type": "code",
   "execution_count": 16,
   "id": "8c60f56d",
   "metadata": {},
   "outputs": [
    {
     "data": {
      "text/plain": [
       "Ttest_relResult(statistic=-10.422210547122273, pvalue=2.575110028153809e-23)"
      ]
     },
     "execution_count": 16,
     "metadata": {},
     "output_type": "execute_result"
    }
   ],
   "source": [
    "#run a matched t test\n",
    "stats.ttest_rel(df2012_2020_1['PERCENT_WOMEN_x'], df2012_2020_1['PERCENT_WOMEN_y'])"
   ]
  },
  {
   "cell_type": "markdown",
   "id": "2c10143a",
   "metadata": {},
   "source": [
    "The results are significant (p < .05) therefore the means are different.\n",
    "\n",
    "There is a change in mean percentage of women from 2012 to 2020."
   ]
  },
  {
   "cell_type": "markdown",
   "id": "c9e13ff1",
   "metadata": {},
   "source": [
    "### Now lets double check the result with transformed data"
   ]
  },
  {
   "cell_type": "code",
   "execution_count": 17,
   "id": "376dc94a",
   "metadata": {
    "scrolled": true
   },
   "outputs": [
    {
     "name": "stderr",
     "output_type": "stream",
     "text": [
      "C:\\Users\\ering\\AppData\\Local\\Temp\\ipykernel_26920\\1451299967.py:2: SettingWithCopyWarning: \n",
      "A value is trying to be set on a copy of a slice from a DataFrame.\n",
      "Try using .loc[row_indexer,col_indexer] = value instead\n",
      "\n",
      "See the caveats in the documentation: https://pandas.pydata.org/pandas-docs/stable/user_guide/indexing.html#returning-a-view-versus-a-copy\n",
      "  df2012_2020_1['PERCENT_WOMEN_x_SQRT'] = np.sqrt(df2012_2020_1['PERCENT_WOMEN_x'])\n"
     ]
    }
   ],
   "source": [
    "#create a column of transformed \"percent women x\" data\n",
    "df2012_2020_1['PERCENT_WOMEN_x_SQRT'] = np.sqrt(df2012_2020_1['PERCENT_WOMEN_x'])"
   ]
  },
  {
   "cell_type": "code",
   "execution_count": 18,
   "id": "069403d3",
   "metadata": {},
   "outputs": [
    {
     "data": {
      "text/plain": [
       "<AxesSubplot:>"
      ]
     },
     "execution_count": 18,
     "metadata": {},
     "output_type": "execute_result"
    },
    {
     "data": {
      "image/png": "[encoded data removed]",
      "text/plain": [
       "<Figure size 432x288 with 1 Axes>"
      ]
     },
     "metadata": {
      "needs_background": "light"
     },
     "output_type": "display_data"
    }
   ],
   "source": [
    "#look at the transformed data for normality\n",
    "df2012_2020_1['PERCENT_WOMEN_x_SQRT'].hist()"
   ]
  },
  {
   "cell_type": "markdown",
   "id": "95ee5a94",
   "metadata": {},
   "source": [
    "Much more normally distributed thi time - we'll keep this."
   ]
  },
  {
   "cell_type": "code",
   "execution_count": 19,
   "id": "c9af3ecd",
   "metadata": {},
   "outputs": [
    {
     "name": "stderr",
     "output_type": "stream",
     "text": [
      "C:\\Users\\ering\\AppData\\Local\\Temp\\ipykernel_26920\\2016420231.py:2: SettingWithCopyWarning: \n",
      "A value is trying to be set on a copy of a slice from a DataFrame.\n",
      "Try using .loc[row_indexer,col_indexer] = value instead\n",
      "\n",
      "See the caveats in the documentation: https://pandas.pydata.org/pandas-docs/stable/user_guide/indexing.html#returning-a-view-versus-a-copy\n",
      "  df2012_2020_1['PERCENT_WOMEN_y_SQRT'] = np.sqrt(df2012_2020_1['PERCENT_WOMEN_y'])\n"
     ]
    }
   ],
   "source": [
    "#create a column of transformed \"percent women y\" data\n",
    "df2012_2020_1['PERCENT_WOMEN_y_SQRT'] = np.sqrt(df2012_2020_1['PERCENT_WOMEN_y'])"
   ]
  },
  {
   "cell_type": "code",
   "execution_count": 20,
   "id": "3f9663a5",
   "metadata": {},
   "outputs": [
    {
     "data": {
      "text/plain": [
       "<AxesSubplot:>"
      ]
     },
     "execution_count": 20,
     "metadata": {},
     "output_type": "execute_result"
    },
    {
     "data": {
      "image/png": "[encoded data removed]",
      "text/plain": [
       "<Figure size 432x288 with 1 Axes>"
      ]
     },
     "metadata": {
      "needs_background": "light"
     },
     "output_type": "display_data"
    }
   ],
   "source": [
    "#look at transformed data for normality\n",
    "df2012_2020_1['PERCENT_WOMEN_y_SQRT'].hist()"
   ]
  },
  {
   "cell_type": "markdown",
   "id": "8ce83be1",
   "metadata": {},
   "source": [
    "This looks much more normal as well"
   ]
  },
  {
   "cell_type": "code",
   "execution_count": 21,
   "id": "f257d6d8",
   "metadata": {},
   "outputs": [
    {
     "data": {
      "text/plain": [
       "Ttest_relResult(statistic=-9.325892378307188, pvalue=2.736506390435323e-19)"
      ]
     },
     "execution_count": 21,
     "metadata": {},
     "output_type": "execute_result"
    }
   ],
   "source": [
    "# perform matched t test on transformed data to see if result is different from result from un-transformed data\n",
    "stats.ttest_rel(df2012_2020_1['PERCENT_WOMEN_x_SQRT'], df2012_2020_1['PERCENT_WOMEN_y_SQRT'])"
   ]
  },
  {
   "cell_type": "markdown",
   "id": "6b86e7bb",
   "metadata": {},
   "source": [
    "The test is still significant - the means are different"
   ]
  },
  {
   "cell_type": "markdown",
   "id": "d8fd7e7e",
   "metadata": {},
   "source": [
    "### Lets look at means and see what's going on here"
   ]
  },
  {
   "cell_type": "code",
   "execution_count": 22,
   "id": "37638d2e",
   "metadata": {},
   "outputs": [
    {
     "data": {
      "text/plain": [
       "0.18163738263474943"
      ]
     },
     "execution_count": 22,
     "metadata": {},
     "output_type": "execute_result"
    }
   ],
   "source": [
    "mean2012 = df2012_2020_1['PERCENT_WOMEN_x'].mean()\n",
    "mean2012"
   ]
  },
  {
   "cell_type": "code",
   "execution_count": 23,
   "id": "423fa6a8",
   "metadata": {},
   "outputs": [
    {
     "data": {
      "text/plain": [
       "0.22665314858237215"
      ]
     },
     "execution_count": 23,
     "metadata": {},
     "output_type": "execute_result"
    }
   ],
   "source": [
    "mean2020 = df2012_2020_1['PERCENT_WOMEN_y'].mean()\n",
    "mean2020"
   ]
  },
  {
   "cell_type": "markdown",
   "id": "4d6a41dd",
   "metadata": {},
   "source": [
    "In 2012 the Mean percentage of women was 18.2%. It had risen to 22.7% by 2020. This is not a large change over 8 years, however it represents a larger change over 8 years than had occurred over the previous 12."
   ]
  },
  {
   "cell_type": "markdown",
   "id": "3d8c3f2e",
   "metadata": {},
   "source": [
    "Is the subset of the 2020 data matched to the 2012 data representative of the whole of the 2020 data?\n",
    "Check and see if the means are the same or different..."
   ]
  },
  {
   "cell_type": "code",
   "execution_count": 24,
   "id": "ed2632ee",
   "metadata": {},
   "outputs": [
    {
     "data": {
      "text/plain": [
       "0.2256101570108995"
      ]
     },
     "execution_count": 24,
     "metadata": {},
     "output_type": "execute_result"
    }
   ],
   "source": [
    "df2020['PERCENT_WOMEN'].mean()"
   ]
  },
  {
   "cell_type": "code",
   "execution_count": 25,
   "id": "40411f79",
   "metadata": {},
   "outputs": [],
   "source": [
    "from scipy.stats import ttest_ind"
   ]
  },
  {
   "cell_type": "code",
   "execution_count": 26,
   "id": "d7caba51",
   "metadata": {},
   "outputs": [
    {
     "data": {
      "text/plain": [
       "Ttest_indResult(statistic=0.14261306590938524, pvalue=0.8866171221273387)"
      ]
     },
     "execution_count": 26,
     "metadata": {},
     "output_type": "execute_result"
    }
   ],
   "source": [
    "ttest_ind(df2012_2020_1['PERCENT_WOMEN_y'], df2020['PERCENT_WOMEN'])"
   ]
  },
  {
   "cell_type": "markdown",
   "id": "ef083682",
   "metadata": {},
   "source": [
    "The pvalue is not significant - the means are not different.\n",
    "We can say that the subset of the 2020 data matched to the 2012 data is representative of the whole of the 2020 dataset."
   ]
  },
  {
   "cell_type": "code",
   "execution_count": null,
   "id": "c5f14091",
   "metadata": {},
   "outputs": [],
   "source": []
  }
 ],
 "metadata": {
  "kernelspec": {
   "display_name": "Python 3 (ipykernel)",
   "language": "python",
   "name": "python3"
  },
  "language_info": {
   "codemirror_mode": {
    "name": "ipython",
    "version": 3
   },
   "file_extension": ".py",
   "mimetype": "text/x-python",
   "name": "python",
   "nbconvert_exporter": "python",
   "pygments_lexer": "ipython3",
   "version": "3.8.13"
  }
 },
 "nbformat": 4,
 "nbformat_minor": 5
}
