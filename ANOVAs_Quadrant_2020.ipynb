{
 "cells": [
  {
   "cell_type": "markdown",
   "id": "ee981096",
   "metadata": {},
   "source": [
    "Question: Is there a difference in the percentage of women enrolled in an undergraduate engineering program depending on which quadrant of the country the school is in?"
   ]
  },
  {
   "cell_type": "markdown",
   "id": "9c8dfefc",
   "metadata": {},
   "source": [
    "Dependent Var (y): percentage of women\n",
    "<br>\n",
    "Independent Var (x): Quadrant, 4 levels NW, NE, SW, SE"
   ]
  },
  {
   "cell_type": "code",
   "execution_count": 3,
   "id": "0f21d2ab",
   "metadata": {},
   "outputs": [],
   "source": [
    "# Import packages\n",
    "import pandas as pd\n",
    "import numpy as np\n",
    "import scipy\n",
    "from scipy import stats\n",
    "from statsmodels.stats.multicomp import pairwise_tukeyhsd\n",
    "from statsmodels.stats.multicomp import MultiComparison"
   ]
  },
  {
   "cell_type": "code",
   "execution_count": 11,
   "id": "c7b2b8ba",
   "metadata": {},
   "outputs": [],
   "source": [
    "#Load data\n",
    "df = pd.read_csv(\"geo_quad_df_2020.csv\")"
   ]
  },
  {
   "cell_type": "code",
   "execution_count": 12,
   "id": "f140811c",
   "metadata": {},
   "outputs": [
    {
     "data": {
      "text/html": [
       "<div>\n",
       "<style scoped>\n",
       "    .dataframe tbody tr th:only-of-type {\n",
       "        vertical-align: middle;\n",
       "    }\n",
       "\n",
       "    .dataframe tbody tr th {\n",
       "        vertical-align: top;\n",
       "    }\n",
       "\n",
       "    .dataframe thead th {\n",
       "        text-align: right;\n",
       "    }\n",
       "</style>\n",
       "<table border=\"1\" class=\"dataframe\">\n",
       "  <thead>\n",
       "    <tr style=\"text-align: right;\">\n",
       "      <th></th>\n",
       "      <th>UNITID</th>\n",
       "      <th>EFTOTLT</th>\n",
       "      <th>EFTOTLM</th>\n",
       "      <th>EFTOTLW</th>\n",
       "      <th>W/M_Ratio</th>\n",
       "      <th>INSTNM</th>\n",
       "      <th>CITY</th>\n",
       "      <th>STABBR</th>\n",
       "      <th>ZIP</th>\n",
       "      <th>LATITUDE</th>\n",
       "      <th>LONGITUDE</th>\n",
       "      <th>geometry</th>\n",
       "      <th>NorthSouth</th>\n",
       "      <th>EastWest</th>\n",
       "      <th>Quadrant</th>\n",
       "    </tr>\n",
       "  </thead>\n",
       "  <tbody>\n",
       "    <tr>\n",
       "      <th>0</th>\n",
       "      <td>100654</td>\n",
       "      <td>578</td>\n",
       "      <td>434</td>\n",
       "      <td>144</td>\n",
       "      <td>0.331797</td>\n",
       "      <td>Alabama A &amp; M University</td>\n",
       "      <td>Normal</td>\n",
       "      <td>AL</td>\n",
       "      <td>35762</td>\n",
       "      <td>34.783368</td>\n",
       "      <td>-86.568502</td>\n",
       "      <td>POINT (-86.568502 34.783368)</td>\n",
       "      <td>S</td>\n",
       "      <td>E</td>\n",
       "      <td>SE</td>\n",
       "    </tr>\n",
       "    <tr>\n",
       "      <th>1</th>\n",
       "      <td>100663</td>\n",
       "      <td>558</td>\n",
       "      <td>382</td>\n",
       "      <td>176</td>\n",
       "      <td>0.460733</td>\n",
       "      <td>University of Alabama at Birmingham</td>\n",
       "      <td>Birmingham</td>\n",
       "      <td>AL</td>\n",
       "      <td>35294-0110</td>\n",
       "      <td>33.505697</td>\n",
       "      <td>-86.799345</td>\n",
       "      <td>POINT (-86.799345 33.505697)</td>\n",
       "      <td>S</td>\n",
       "      <td>E</td>\n",
       "      <td>SE</td>\n",
       "    </tr>\n",
       "    <tr>\n",
       "      <th>2</th>\n",
       "      <td>100706</td>\n",
       "      <td>2792</td>\n",
       "      <td>2203</td>\n",
       "      <td>589</td>\n",
       "      <td>0.267363</td>\n",
       "      <td>University of Alabama in Huntsville</td>\n",
       "      <td>Huntsville</td>\n",
       "      <td>AL</td>\n",
       "      <td>35899</td>\n",
       "      <td>34.724557</td>\n",
       "      <td>-86.640449</td>\n",
       "      <td>POINT (-86.640449 34.724557)</td>\n",
       "      <td>S</td>\n",
       "      <td>E</td>\n",
       "      <td>SE</td>\n",
       "    </tr>\n",
       "    <tr>\n",
       "      <th>3</th>\n",
       "      <td>100724</td>\n",
       "      <td>60</td>\n",
       "      <td>28</td>\n",
       "      <td>32</td>\n",
       "      <td>1.142857</td>\n",
       "      <td>Alabama State University</td>\n",
       "      <td>Montgomery</td>\n",
       "      <td>AL</td>\n",
       "      <td>36104-0271</td>\n",
       "      <td>32.364317</td>\n",
       "      <td>-86.295677</td>\n",
       "      <td>POINT (-86.295677 32.364317)</td>\n",
       "      <td>S</td>\n",
       "      <td>E</td>\n",
       "      <td>SE</td>\n",
       "    </tr>\n",
       "    <tr>\n",
       "      <th>4</th>\n",
       "      <td>100751</td>\n",
       "      <td>4383</td>\n",
       "      <td>3405</td>\n",
       "      <td>978</td>\n",
       "      <td>0.287225</td>\n",
       "      <td>The University of Alabama</td>\n",
       "      <td>Tuscaloosa</td>\n",
       "      <td>AL</td>\n",
       "      <td>35487-0100</td>\n",
       "      <td>33.211875</td>\n",
       "      <td>-87.545978</td>\n",
       "      <td>POINT (-87.54597800000001 33.211875)</td>\n",
       "      <td>S</td>\n",
       "      <td>E</td>\n",
       "      <td>SE</td>\n",
       "    </tr>\n",
       "  </tbody>\n",
       "</table>\n",
       "</div>"
      ],
      "text/plain": [
       "   UNITID  EFTOTLT  EFTOTLM  EFTOTLW  W/M_Ratio  \\\n",
       "0  100654      578      434      144   0.331797   \n",
       "1  100663      558      382      176   0.460733   \n",
       "2  100706     2792     2203      589   0.267363   \n",
       "3  100724       60       28       32   1.142857   \n",
       "4  100751     4383     3405      978   0.287225   \n",
       "\n",
       "                                INSTNM        CITY STABBR         ZIP  \\\n",
       "0             Alabama A & M University      Normal     AL       35762   \n",
       "1  University of Alabama at Birmingham  Birmingham     AL  35294-0110   \n",
       "2  University of Alabama in Huntsville  Huntsville     AL       35899   \n",
       "3             Alabama State University  Montgomery     AL  36104-0271   \n",
       "4            The University of Alabama  Tuscaloosa     AL  35487-0100   \n",
       "\n",
       "    LATITUDE  LONGITUDE                              geometry NorthSouth  \\\n",
       "0  34.783368 -86.568502          POINT (-86.568502 34.783368)          S   \n",
       "1  33.505697 -86.799345          POINT (-86.799345 33.505697)          S   \n",
       "2  34.724557 -86.640449          POINT (-86.640449 34.724557)          S   \n",
       "3  32.364317 -86.295677          POINT (-86.295677 32.364317)          S   \n",
       "4  33.211875 -87.545978  POINT (-87.54597800000001 33.211875)          S   \n",
       "\n",
       "  EastWest Quadrant  \n",
       "0        E       SE  \n",
       "1        E       SE  \n",
       "2        E       SE  \n",
       "3        E       SE  \n",
       "4        E       SE  "
      ]
     },
     "execution_count": 12,
     "metadata": {},
     "output_type": "execute_result"
    }
   ],
   "source": [
    "df.head()"
   ]
  },
  {
   "cell_type": "code",
   "execution_count": 13,
   "id": "039119de",
   "metadata": {},
   "outputs": [],
   "source": [
    "# Create a column with the percentage of women\n",
    "df['PERCENT_WOMEN'] = df['EFTOTLW']/df['EFTOTLT']"
   ]
  },
  {
   "cell_type": "code",
   "execution_count": 18,
   "id": "32c7dadf",
   "metadata": {},
   "outputs": [],
   "source": [
    "# Data wrangling: keep only the columns I'm interested in: PERCENT_WOMEN and Quadrant\n",
    "df2 = df[['PERCENT_WOMEN', 'Quadrant']].copy()"
   ]
  },
  {
   "cell_type": "code",
   "execution_count": 19,
   "id": "d6a6d5c1",
   "metadata": {},
   "outputs": [
    {
     "data": {
      "text/html": [
       "<div>\n",
       "<style scoped>\n",
       "    .dataframe tbody tr th:only-of-type {\n",
       "        vertical-align: middle;\n",
       "    }\n",
       "\n",
       "    .dataframe tbody tr th {\n",
       "        vertical-align: top;\n",
       "    }\n",
       "\n",
       "    .dataframe thead th {\n",
       "        text-align: right;\n",
       "    }\n",
       "</style>\n",
       "<table border=\"1\" class=\"dataframe\">\n",
       "  <thead>\n",
       "    <tr style=\"text-align: right;\">\n",
       "      <th></th>\n",
       "      <th>PERCENT_WOMEN</th>\n",
       "      <th>Quadrant</th>\n",
       "    </tr>\n",
       "  </thead>\n",
       "  <tbody>\n",
       "    <tr>\n",
       "      <th>0</th>\n",
       "      <td>0.249135</td>\n",
       "      <td>SE</td>\n",
       "    </tr>\n",
       "    <tr>\n",
       "      <th>1</th>\n",
       "      <td>0.315412</td>\n",
       "      <td>SE</td>\n",
       "    </tr>\n",
       "    <tr>\n",
       "      <th>2</th>\n",
       "      <td>0.210960</td>\n",
       "      <td>SE</td>\n",
       "    </tr>\n",
       "    <tr>\n",
       "      <th>3</th>\n",
       "      <td>0.533333</td>\n",
       "      <td>SE</td>\n",
       "    </tr>\n",
       "    <tr>\n",
       "      <th>4</th>\n",
       "      <td>0.223135</td>\n",
       "      <td>SE</td>\n",
       "    </tr>\n",
       "  </tbody>\n",
       "</table>\n",
       "</div>"
      ],
      "text/plain": [
       "   PERCENT_WOMEN Quadrant\n",
       "0       0.249135       SE\n",
       "1       0.315412       SE\n",
       "2       0.210960       SE\n",
       "3       0.533333       SE\n",
       "4       0.223135       SE"
      ]
     },
     "execution_count": 19,
     "metadata": {},
     "output_type": "execute_result"
    }
   ],
   "source": [
    "df2.head()"
   ]
  },
  {
   "cell_type": "code",
   "execution_count": 20,
   "id": "2452cdeb",
   "metadata": {},
   "outputs": [],
   "source": [
    "# Recode Quadrant to a number\n",
    "# NE = 1\n",
    "# NW = 2\n",
    "# SE = 3\n",
    "# SW = 4\n",
    "\n",
    "def recode (series):\n",
    "    if series == 'NE':\n",
    "        return 1\n",
    "    if series == 'NW':\n",
    "        return 2\n",
    "    if series == 'SE':\n",
    "        return 3\n",
    "    if series == 'SW':\n",
    "        return 4\n",
    "\n",
    "df2['QuadrantR'] = df2['Quadrant'].apply(recode)"
   ]
  },
  {
   "cell_type": "code",
   "execution_count": 21,
   "id": "321ba6f0",
   "metadata": {},
   "outputs": [],
   "source": [
    "df3 = df2[['PERCENT_WOMEN', 'QuadrantR']].copy()"
   ]
  },
  {
   "cell_type": "code",
   "execution_count": 22,
   "id": "5f45fa41",
   "metadata": {},
   "outputs": [
    {
     "data": {
      "text/html": [
       "<div>\n",
       "<style scoped>\n",
       "    .dataframe tbody tr th:only-of-type {\n",
       "        vertical-align: middle;\n",
       "    }\n",
       "\n",
       "    .dataframe tbody tr th {\n",
       "        vertical-align: top;\n",
       "    }\n",
       "\n",
       "    .dataframe thead th {\n",
       "        text-align: right;\n",
       "    }\n",
       "</style>\n",
       "<table border=\"1\" class=\"dataframe\">\n",
       "  <thead>\n",
       "    <tr style=\"text-align: right;\">\n",
       "      <th></th>\n",
       "      <th>PERCENT_WOMEN</th>\n",
       "      <th>QuadrantR</th>\n",
       "    </tr>\n",
       "  </thead>\n",
       "  <tbody>\n",
       "    <tr>\n",
       "      <th>0</th>\n",
       "      <td>0.249135</td>\n",
       "      <td>3</td>\n",
       "    </tr>\n",
       "    <tr>\n",
       "      <th>1</th>\n",
       "      <td>0.315412</td>\n",
       "      <td>3</td>\n",
       "    </tr>\n",
       "    <tr>\n",
       "      <th>2</th>\n",
       "      <td>0.210960</td>\n",
       "      <td>3</td>\n",
       "    </tr>\n",
       "    <tr>\n",
       "      <th>3</th>\n",
       "      <td>0.533333</td>\n",
       "      <td>3</td>\n",
       "    </tr>\n",
       "    <tr>\n",
       "      <th>4</th>\n",
       "      <td>0.223135</td>\n",
       "      <td>3</td>\n",
       "    </tr>\n",
       "  </tbody>\n",
       "</table>\n",
       "</div>"
      ],
      "text/plain": [
       "   PERCENT_WOMEN  QuadrantR\n",
       "0       0.249135          3\n",
       "1       0.315412          3\n",
       "2       0.210960          3\n",
       "3       0.533333          3\n",
       "4       0.223135          3"
      ]
     },
     "execution_count": 22,
     "metadata": {},
     "output_type": "execute_result"
    }
   ],
   "source": [
    "df3.head()"
   ]
  },
  {
   "cell_type": "code",
   "execution_count": 23,
   "id": "0956703b",
   "metadata": {},
   "outputs": [],
   "source": [
    "## Test for assumptions??"
   ]
  },
  {
   "cell_type": "code",
   "execution_count": 25,
   "id": "e100bef1",
   "metadata": {},
   "outputs": [
    {
     "data": {
      "text/plain": [
       "F_onewayResult(statistic=1.3994475033666858, pvalue=0.2416997063717485)"
      ]
     },
     "execution_count": 25,
     "metadata": {},
     "output_type": "execute_result"
    }
   ],
   "source": [
    "# Run one-way ANOVA\n",
    "\n",
    "stats.f_oneway(df2['PERCENT_WOMEN'][df2['Quadrant']=='NW'],\n",
    "            df2['PERCENT_WOMEN'][df2['Quadrant']=='NE'],\n",
    "            df2['PERCENT_WOMEN'][df2['Quadrant']=='SE'],\n",
    "            df2['PERCENT_WOMEN'][df2['Quadrant']=='SW'])"
   ]
  },
  {
   "cell_type": "markdown",
   "id": "7cd4951a",
   "metadata": {},
   "source": [
    "The result is not significant. Accept the null hypothesis. There is no difference in the means of PERCENT_WOMEN between the different quadrants."
   ]
  },
  {
   "cell_type": "code",
   "execution_count": 27,
   "id": "3ad5f48b",
   "metadata": {},
   "outputs": [
    {
     "name": "stdout",
     "output_type": "stream",
     "text": [
      "Multiple Comparison of Means - Tukey HSD, FWER=0.05\n",
      "===================================================\n",
      "group1 group2 meandiff p-adj   lower  upper  reject\n",
      "---------------------------------------------------\n",
      "     1      2   0.0241 0.3552 -0.0137 0.0618  False\n",
      "     1      3   0.0097 0.8722  -0.023 0.0424  False\n",
      "     1      4   0.0222 0.3872 -0.0139 0.0583  False\n",
      "     2      3  -0.0144 0.8214 -0.0572 0.0284  False\n",
      "     2      4  -0.0018 0.9996 -0.0473 0.0436  False\n",
      "     3      4   0.0126  0.862 -0.0288 0.0539  False\n",
      "---------------------------------------------------\n"
     ]
    }
   ],
   "source": [
    "postHoc = MultiComparison(df3['PERCENT_WOMEN'], df3['QuadrantR'])\n",
    "postHocResults = postHoc.tukeyhsd()\n",
    "print(postHocResults)"
   ]
  },
  {
   "cell_type": "markdown",
   "id": "6008cb69",
   "metadata": {},
   "source": [
    "As the ANOVA showed, there is no difference in the means,\n",
    "<br>\n",
    "In 2020 one quadrant of the country shows the same mean percentage of women enrolled in an engineering undergraduate program as any other."
   ]
  },
  {
   "cell_type": "code",
   "execution_count": null,
   "id": "5b8d1e89",
   "metadata": {},
   "outputs": [],
   "source": []
  }
 ],
 "metadata": {
  "kernelspec": {
   "display_name": "Python 3 (ipykernel)",
   "language": "python",
   "name": "python3"
  },
  "language_info": {
   "codemirror_mode": {
    "name": "ipython",
    "version": 3
   },
   "file_extension": ".py",
   "mimetype": "text/x-python",
   "name": "python",
   "nbconvert_exporter": "python",
   "pygments_lexer": "ipython3",
   "version": "3.8.13"
  }
 },
 "nbformat": 4,
 "nbformat_minor": 5
}
