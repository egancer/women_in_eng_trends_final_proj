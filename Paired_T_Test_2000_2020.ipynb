{
 "cells": [
  {
   "cell_type": "markdown",
   "id": "99d331b5",
   "metadata": {},
   "source": [
    "## This will use 2000 data with matching 2020 data for a paired t test"
   ]
  },
  {
   "cell_type": "code",
   "execution_count": 1,
   "id": "6e43210b",
   "metadata": {},
   "outputs": [],
   "source": [
    "import pandas as pd"
   ]
  },
  {
   "cell_type": "code",
   "execution_count": 2,
   "id": "623b6256",
   "metadata": {},
   "outputs": [],
   "source": [
    "#import datasets\n",
    "df2000 = pd.read_csv(\"geo_df2000.csv\")\n",
    "df2020 = pd.read_csv(\"geo_df2020.csv\")"
   ]
  },
  {
   "cell_type": "code",
   "execution_count": 3,
   "id": "05d0aab9",
   "metadata": {},
   "outputs": [
    {
     "name": "stdout",
     "output_type": "stream",
     "text": [
      "<class 'pandas.core.frame.DataFrame'>\n",
      "RangeIndex: 445 entries, 0 to 444\n",
      "Data columns (total 11 columns):\n",
      " #   Column     Non-Null Count  Dtype  \n",
      "---  ------     --------------  -----  \n",
      " 0   UNITID     445 non-null    int64  \n",
      " 1   efrace15   445 non-null    int64  \n",
      " 2   efrace16   445 non-null    int64  \n",
      " 3   W/M_Ratio  445 non-null    float64\n",
      " 4   INSTNM     445 non-null    object \n",
      " 5   CITY       445 non-null    object \n",
      " 6   STABBR     445 non-null    object \n",
      " 7   ZIP        445 non-null    object \n",
      " 8   LATITUDE   445 non-null    float64\n",
      " 9   LONGITUDE  445 non-null    float64\n",
      " 10  geometry   445 non-null    object \n",
      "dtypes: float64(3), int64(3), object(5)\n",
      "memory usage: 38.4+ KB\n"
     ]
    }
   ],
   "source": [
    "#look at the column names\n",
    "df2000.info()"
   ]
  },
  {
   "cell_type": "code",
   "execution_count": 4,
   "id": "e4ba7100",
   "metadata": {},
   "outputs": [],
   "source": [
    "#rename for clarity and add a total students column\n",
    "df2000.rename(columns={'efrace15' : 'MEN', 'efrace16' : 'WOMEN'}, inplace=True)\n",
    "df2000['TOTALSTUDENTS'] = df2000['MEN'] + df2000['WOMEN']"
   ]
  },
  {
   "cell_type": "code",
   "execution_count": 5,
   "id": "ed5175bb",
   "metadata": {},
   "outputs": [],
   "source": [
    "#add a \"percent women\" column\n",
    "df2000['PERCENT_WOMEN'] = df2000['WOMEN']/df2000['TOTALSTUDENTS']"
   ]
  },
  {
   "cell_type": "code",
   "execution_count": 6,
   "id": "38ff2d56",
   "metadata": {},
   "outputs": [
    {
     "data": {
      "text/html": [
       "<div>\n",
       "<style scoped>\n",
       "    .dataframe tbody tr th:only-of-type {\n",
       "        vertical-align: middle;\n",
       "    }\n",
       "\n",
       "    .dataframe tbody tr th {\n",
       "        vertical-align: top;\n",
       "    }\n",
       "\n",
       "    .dataframe thead th {\n",
       "        text-align: right;\n",
       "    }\n",
       "</style>\n",
       "<table border=\"1\" class=\"dataframe\">\n",
       "  <thead>\n",
       "    <tr style=\"text-align: right;\">\n",
       "      <th></th>\n",
       "      <th>UNITID</th>\n",
       "      <th>MEN</th>\n",
       "      <th>WOMEN</th>\n",
       "      <th>W/M_Ratio</th>\n",
       "      <th>INSTNM</th>\n",
       "      <th>CITY</th>\n",
       "      <th>STABBR</th>\n",
       "      <th>ZIP</th>\n",
       "      <th>LATITUDE</th>\n",
       "      <th>LONGITUDE</th>\n",
       "      <th>geometry</th>\n",
       "      <th>TOTALSTUDENTS</th>\n",
       "      <th>PERCENT_WOMEN</th>\n",
       "    </tr>\n",
       "  </thead>\n",
       "  <tbody>\n",
       "    <tr>\n",
       "      <th>0</th>\n",
       "      <td>100663</td>\n",
       "      <td>307</td>\n",
       "      <td>87</td>\n",
       "      <td>0.283388</td>\n",
       "      <td>University of Alabama at Birmingham</td>\n",
       "      <td>Birmingham</td>\n",
       "      <td>AL</td>\n",
       "      <td>35294-0110</td>\n",
       "      <td>33.505697</td>\n",
       "      <td>-86.799345</td>\n",
       "      <td>POINT (-86.799345 33.505697)</td>\n",
       "      <td>394</td>\n",
       "      <td>0.220812</td>\n",
       "    </tr>\n",
       "    <tr>\n",
       "      <th>1</th>\n",
       "      <td>100706</td>\n",
       "      <td>650</td>\n",
       "      <td>224</td>\n",
       "      <td>0.344615</td>\n",
       "      <td>University of Alabama in Huntsville</td>\n",
       "      <td>Huntsville</td>\n",
       "      <td>AL</td>\n",
       "      <td>35899</td>\n",
       "      <td>34.724557</td>\n",
       "      <td>-86.640449</td>\n",
       "      <td>POINT (-86.640449 34.724557)</td>\n",
       "      <td>874</td>\n",
       "      <td>0.256293</td>\n",
       "    </tr>\n",
       "    <tr>\n",
       "      <th>2</th>\n",
       "      <td>100751</td>\n",
       "      <td>887</td>\n",
       "      <td>252</td>\n",
       "      <td>0.284104</td>\n",
       "      <td>The University of Alabama</td>\n",
       "      <td>Tuscaloosa</td>\n",
       "      <td>AL</td>\n",
       "      <td>35487-0100</td>\n",
       "      <td>33.211875</td>\n",
       "      <td>-87.545978</td>\n",
       "      <td>POINT (-87.54597800000001 33.211875)</td>\n",
       "      <td>1139</td>\n",
       "      <td>0.221247</td>\n",
       "    </tr>\n",
       "    <tr>\n",
       "      <th>3</th>\n",
       "      <td>100858</td>\n",
       "      <td>2396</td>\n",
       "      <td>526</td>\n",
       "      <td>0.219533</td>\n",
       "      <td>Auburn University</td>\n",
       "      <td>Auburn</td>\n",
       "      <td>AL</td>\n",
       "      <td>36849</td>\n",
       "      <td>32.599378</td>\n",
       "      <td>-85.488258</td>\n",
       "      <td>POINT (-85.488258 32.599378)</td>\n",
       "      <td>2922</td>\n",
       "      <td>0.180014</td>\n",
       "    </tr>\n",
       "    <tr>\n",
       "      <th>4</th>\n",
       "      <td>101480</td>\n",
       "      <td>15</td>\n",
       "      <td>1</td>\n",
       "      <td>0.066667</td>\n",
       "      <td>Jacksonville State University</td>\n",
       "      <td>Jacksonville</td>\n",
       "      <td>AL</td>\n",
       "      <td>36265</td>\n",
       "      <td>33.822938</td>\n",
       "      <td>-85.765321</td>\n",
       "      <td>POINT (-85.765321 33.822938)</td>\n",
       "      <td>16</td>\n",
       "      <td>0.062500</td>\n",
       "    </tr>\n",
       "  </tbody>\n",
       "</table>\n",
       "</div>"
      ],
      "text/plain": [
       "   UNITID   MEN  WOMEN  W/M_Ratio                               INSTNM  \\\n",
       "0  100663   307     87   0.283388  University of Alabama at Birmingham   \n",
       "1  100706   650    224   0.344615  University of Alabama in Huntsville   \n",
       "2  100751   887    252   0.284104            The University of Alabama   \n",
       "3  100858  2396    526   0.219533                    Auburn University   \n",
       "4  101480    15      1   0.066667        Jacksonville State University   \n",
       "\n",
       "           CITY STABBR         ZIP   LATITUDE  LONGITUDE  \\\n",
       "0    Birmingham     AL  35294-0110  33.505697 -86.799345   \n",
       "1    Huntsville     AL       35899  34.724557 -86.640449   \n",
       "2    Tuscaloosa     AL  35487-0100  33.211875 -87.545978   \n",
       "3        Auburn     AL       36849  32.599378 -85.488258   \n",
       "4  Jacksonville     AL       36265  33.822938 -85.765321   \n",
       "\n",
       "                               geometry  TOTALSTUDENTS  PERCENT_WOMEN  \n",
       "0          POINT (-86.799345 33.505697)            394       0.220812  \n",
       "1          POINT (-86.640449 34.724557)            874       0.256293  \n",
       "2  POINT (-87.54597800000001 33.211875)           1139       0.221247  \n",
       "3          POINT (-85.488258 32.599378)           2922       0.180014  \n",
       "4          POINT (-85.765321 33.822938)             16       0.062500  "
      ]
     },
     "execution_count": 6,
     "metadata": {},
     "output_type": "execute_result"
    }
   ],
   "source": [
    "df2000.head()"
   ]
  },
  {
   "cell_type": "code",
   "execution_count": 7,
   "id": "60604b73",
   "metadata": {},
   "outputs": [
    {
     "name": "stdout",
     "output_type": "stream",
     "text": [
      "<class 'pandas.core.frame.DataFrame'>\n",
      "RangeIndex: 802 entries, 0 to 801\n",
      "Data columns (total 12 columns):\n",
      " #   Column     Non-Null Count  Dtype  \n",
      "---  ------     --------------  -----  \n",
      " 0   UNITID     802 non-null    int64  \n",
      " 1   EFTOTLT    802 non-null    int64  \n",
      " 2   EFTOTLM    802 non-null    int64  \n",
      " 3   EFTOTLW    802 non-null    int64  \n",
      " 4   W/M_Ratio  802 non-null    float64\n",
      " 5   INSTNM     802 non-null    object \n",
      " 6   CITY       802 non-null    object \n",
      " 7   STABBR     802 non-null    object \n",
      " 8   ZIP        802 non-null    object \n",
      " 9   LATITUDE   802 non-null    float64\n",
      " 10  LONGITUDE  802 non-null    float64\n",
      " 11  geometry   802 non-null    object \n",
      "dtypes: float64(3), int64(4), object(5)\n",
      "memory usage: 75.3+ KB\n"
     ]
    }
   ],
   "source": [
    "#examine the dataset column names\n",
    "df2020.info()"
   ]
  },
  {
   "cell_type": "code",
   "execution_count": 8,
   "id": "4069750f",
   "metadata": {},
   "outputs": [],
   "source": [
    "#rename columns for clarity and to match the 2000 dataset\n",
    "df2020.rename(columns={'EFTOTLM' : 'MEN', 'EFTOTLW' : 'WOMEN', 'EFTOTLT': 'TOTALSTUDENTS'}, inplace=True)"
   ]
  },
  {
   "cell_type": "code",
   "execution_count": 9,
   "id": "b62d8751",
   "metadata": {
    "scrolled": false
   },
   "outputs": [
    {
     "data": {
      "text/html": [
       "<div>\n",
       "<style scoped>\n",
       "    .dataframe tbody tr th:only-of-type {\n",
       "        vertical-align: middle;\n",
       "    }\n",
       "\n",
       "    .dataframe tbody tr th {\n",
       "        vertical-align: top;\n",
       "    }\n",
       "\n",
       "    .dataframe thead th {\n",
       "        text-align: right;\n",
       "    }\n",
       "</style>\n",
       "<table border=\"1\" class=\"dataframe\">\n",
       "  <thead>\n",
       "    <tr style=\"text-align: right;\">\n",
       "      <th></th>\n",
       "      <th>UNITID</th>\n",
       "      <th>TOTALSTUDENTS</th>\n",
       "      <th>MEN</th>\n",
       "      <th>WOMEN</th>\n",
       "      <th>W/M_Ratio</th>\n",
       "      <th>INSTNM</th>\n",
       "      <th>CITY</th>\n",
       "      <th>STABBR</th>\n",
       "      <th>ZIP</th>\n",
       "      <th>LATITUDE</th>\n",
       "      <th>LONGITUDE</th>\n",
       "      <th>geometry</th>\n",
       "      <th>PERCENT_WOMEN</th>\n",
       "    </tr>\n",
       "  </thead>\n",
       "  <tbody>\n",
       "    <tr>\n",
       "      <th>0</th>\n",
       "      <td>100654</td>\n",
       "      <td>5706</td>\n",
       "      <td>4188</td>\n",
       "      <td>1518</td>\n",
       "      <td>0.362464</td>\n",
       "      <td>Alabama A &amp; M University</td>\n",
       "      <td>Normal</td>\n",
       "      <td>AL</td>\n",
       "      <td>35762</td>\n",
       "      <td>34.783368</td>\n",
       "      <td>-86.568502</td>\n",
       "      <td>POINT (-86.568502 34.783368)</td>\n",
       "      <td>0.266036</td>\n",
       "    </tr>\n",
       "    <tr>\n",
       "      <th>1</th>\n",
       "      <td>100663</td>\n",
       "      <td>7706</td>\n",
       "      <td>5438</td>\n",
       "      <td>2268</td>\n",
       "      <td>0.417065</td>\n",
       "      <td>University of Alabama at Birmingham</td>\n",
       "      <td>Birmingham</td>\n",
       "      <td>AL</td>\n",
       "      <td>35294-0110</td>\n",
       "      <td>33.505697</td>\n",
       "      <td>-86.799345</td>\n",
       "      <td>POINT (-86.799345 33.505697)</td>\n",
       "      <td>0.294316</td>\n",
       "    </tr>\n",
       "    <tr>\n",
       "      <th>2</th>\n",
       "      <td>100706</td>\n",
       "      <td>28774</td>\n",
       "      <td>22734</td>\n",
       "      <td>6040</td>\n",
       "      <td>0.265681</td>\n",
       "      <td>University of Alabama in Huntsville</td>\n",
       "      <td>Huntsville</td>\n",
       "      <td>AL</td>\n",
       "      <td>35899</td>\n",
       "      <td>34.724557</td>\n",
       "      <td>-86.640449</td>\n",
       "      <td>POINT (-86.640449 34.724557)</td>\n",
       "      <td>0.209912</td>\n",
       "    </tr>\n",
       "    <tr>\n",
       "      <th>3</th>\n",
       "      <td>100724</td>\n",
       "      <td>558</td>\n",
       "      <td>260</td>\n",
       "      <td>298</td>\n",
       "      <td>1.146154</td>\n",
       "      <td>Alabama State University</td>\n",
       "      <td>Montgomery</td>\n",
       "      <td>AL</td>\n",
       "      <td>36104-0271</td>\n",
       "      <td>32.364317</td>\n",
       "      <td>-86.295677</td>\n",
       "      <td>POINT (-86.295677 32.364317)</td>\n",
       "      <td>0.534050</td>\n",
       "    </tr>\n",
       "    <tr>\n",
       "      <th>4</th>\n",
       "      <td>100751</td>\n",
       "      <td>43824</td>\n",
       "      <td>34070</td>\n",
       "      <td>9754</td>\n",
       "      <td>0.286293</td>\n",
       "      <td>The University of Alabama</td>\n",
       "      <td>Tuscaloosa</td>\n",
       "      <td>AL</td>\n",
       "      <td>35487-0100</td>\n",
       "      <td>33.211875</td>\n",
       "      <td>-87.545978</td>\n",
       "      <td>POINT (-87.54597800000001 33.211875)</td>\n",
       "      <td>0.222572</td>\n",
       "    </tr>\n",
       "  </tbody>\n",
       "</table>\n",
       "</div>"
      ],
      "text/plain": [
       "   UNITID  TOTALSTUDENTS    MEN  WOMEN  W/M_Ratio  \\\n",
       "0  100654           5706   4188   1518   0.362464   \n",
       "1  100663           7706   5438   2268   0.417065   \n",
       "2  100706          28774  22734   6040   0.265681   \n",
       "3  100724            558    260    298   1.146154   \n",
       "4  100751          43824  34070   9754   0.286293   \n",
       "\n",
       "                                INSTNM        CITY STABBR         ZIP  \\\n",
       "0             Alabama A & M University      Normal     AL       35762   \n",
       "1  University of Alabama at Birmingham  Birmingham     AL  35294-0110   \n",
       "2  University of Alabama in Huntsville  Huntsville     AL       35899   \n",
       "3             Alabama State University  Montgomery     AL  36104-0271   \n",
       "4            The University of Alabama  Tuscaloosa     AL  35487-0100   \n",
       "\n",
       "    LATITUDE  LONGITUDE                              geometry  PERCENT_WOMEN  \n",
       "0  34.783368 -86.568502          POINT (-86.568502 34.783368)       0.266036  \n",
       "1  33.505697 -86.799345          POINT (-86.799345 33.505697)       0.294316  \n",
       "2  34.724557 -86.640449          POINT (-86.640449 34.724557)       0.209912  \n",
       "3  32.364317 -86.295677          POINT (-86.295677 32.364317)       0.534050  \n",
       "4  33.211875 -87.545978  POINT (-87.54597800000001 33.211875)       0.222572  "
      ]
     },
     "execution_count": 9,
     "metadata": {},
     "output_type": "execute_result"
    }
   ],
   "source": [
    "#add a \"percent women\" column\n",
    "df2020['PERCENT_WOMEN'] = df2020['WOMEN']/df2020['TOTALSTUDENTS']\n",
    "df2020.head()"
   ]
  },
  {
   "cell_type": "markdown",
   "id": "9560f203",
   "metadata": {},
   "source": [
    "There are 462 schools in 2000, but 802 in 2020. \n",
    "<br>\n",
    "For a true matched t-test we have to be comparing the same thing.\n",
    "<br>\n",
    "I'm going to join the two dataframes with a left join and keep only the matching values."
   ]
  },
  {
   "cell_type": "code",
   "execution_count": 10,
   "id": "e16dbd09",
   "metadata": {},
   "outputs": [
    {
     "name": "stdout",
     "output_type": "stream",
     "text": [
      "<class 'pandas.core.frame.DataFrame'>\n",
      "Int64Index: 445 entries, 0 to 444\n",
      "Data columns (total 25 columns):\n",
      " #   Column           Non-Null Count  Dtype  \n",
      "---  ------           --------------  -----  \n",
      " 0   UNITID           445 non-null    int64  \n",
      " 1   MEN_x            445 non-null    int64  \n",
      " 2   WOMEN_x          445 non-null    int64  \n",
      " 3   W/M_Ratio_x      445 non-null    float64\n",
      " 4   INSTNM_x         445 non-null    object \n",
      " 5   CITY_x           445 non-null    object \n",
      " 6   STABBR_x         445 non-null    object \n",
      " 7   ZIP_x            445 non-null    object \n",
      " 8   LATITUDE_x       445 non-null    float64\n",
      " 9   LONGITUDE_x      445 non-null    float64\n",
      " 10  geometry_x       445 non-null    object \n",
      " 11  TOTALSTUDENTS_x  445 non-null    int64  \n",
      " 12  PERCENT_WOMEN_x  445 non-null    float64\n",
      " 13  TOTALSTUDENTS_y  391 non-null    float64\n",
      " 14  MEN_y            391 non-null    float64\n",
      " 15  WOMEN_y          391 non-null    float64\n",
      " 16  W/M_Ratio_y      391 non-null    float64\n",
      " 17  INSTNM_y         391 non-null    object \n",
      " 18  CITY_y           391 non-null    object \n",
      " 19  STABBR_y         391 non-null    object \n",
      " 20  ZIP_y            391 non-null    object \n",
      " 21  LATITUDE_y       391 non-null    float64\n",
      " 22  LONGITUDE_y      391 non-null    float64\n",
      " 23  geometry_y       391 non-null    object \n",
      " 24  PERCENT_WOMEN_y  391 non-null    float64\n",
      "dtypes: float64(11), int64(4), object(10)\n",
      "memory usage: 90.4+ KB\n"
     ]
    }
   ],
   "source": [
    "# perform a left join on the UNITID column\n",
    "df2000_2020 = pd.merge(df2000, df2020, on= \"UNITID\", how = 'left')\n",
    "df2000_2020.info()"
   ]
  },
  {
   "cell_type": "code",
   "execution_count": 11,
   "id": "62063bb6",
   "metadata": {
    "scrolled": false
   },
   "outputs": [
    {
     "data": {
      "text/html": [
       "<div>\n",
       "<style scoped>\n",
       "    .dataframe tbody tr th:only-of-type {\n",
       "        vertical-align: middle;\n",
       "    }\n",
       "\n",
       "    .dataframe tbody tr th {\n",
       "        vertical-align: top;\n",
       "    }\n",
       "\n",
       "    .dataframe thead th {\n",
       "        text-align: right;\n",
       "    }\n",
       "</style>\n",
       "<table border=\"1\" class=\"dataframe\">\n",
       "  <thead>\n",
       "    <tr style=\"text-align: right;\">\n",
       "      <th></th>\n",
       "      <th>UNITID</th>\n",
       "      <th>MEN_x</th>\n",
       "      <th>WOMEN_x</th>\n",
       "      <th>W/M_Ratio_x</th>\n",
       "      <th>INSTNM_x</th>\n",
       "      <th>CITY_x</th>\n",
       "      <th>STABBR_x</th>\n",
       "      <th>ZIP_x</th>\n",
       "      <th>LATITUDE_x</th>\n",
       "      <th>LONGITUDE_x</th>\n",
       "      <th>...</th>\n",
       "      <th>WOMEN_y</th>\n",
       "      <th>W/M_Ratio_y</th>\n",
       "      <th>INSTNM_y</th>\n",
       "      <th>CITY_y</th>\n",
       "      <th>STABBR_y</th>\n",
       "      <th>ZIP_y</th>\n",
       "      <th>LATITUDE_y</th>\n",
       "      <th>LONGITUDE_y</th>\n",
       "      <th>geometry_y</th>\n",
       "      <th>PERCENT_WOMEN_y</th>\n",
       "    </tr>\n",
       "  </thead>\n",
       "  <tbody>\n",
       "    <tr>\n",
       "      <th>0</th>\n",
       "      <td>100663</td>\n",
       "      <td>307</td>\n",
       "      <td>87</td>\n",
       "      <td>0.283388</td>\n",
       "      <td>University of Alabama at Birmingham</td>\n",
       "      <td>Birmingham</td>\n",
       "      <td>AL</td>\n",
       "      <td>35294-0110</td>\n",
       "      <td>33.505697</td>\n",
       "      <td>-86.799345</td>\n",
       "      <td>...</td>\n",
       "      <td>2268.0</td>\n",
       "      <td>0.417065</td>\n",
       "      <td>University of Alabama at Birmingham</td>\n",
       "      <td>Birmingham</td>\n",
       "      <td>AL</td>\n",
       "      <td>35294-0110</td>\n",
       "      <td>33.505697</td>\n",
       "      <td>-86.799345</td>\n",
       "      <td>POINT (-86.799345 33.505697)</td>\n",
       "      <td>0.294316</td>\n",
       "    </tr>\n",
       "    <tr>\n",
       "      <th>1</th>\n",
       "      <td>100706</td>\n",
       "      <td>650</td>\n",
       "      <td>224</td>\n",
       "      <td>0.344615</td>\n",
       "      <td>University of Alabama in Huntsville</td>\n",
       "      <td>Huntsville</td>\n",
       "      <td>AL</td>\n",
       "      <td>35899</td>\n",
       "      <td>34.724557</td>\n",
       "      <td>-86.640449</td>\n",
       "      <td>...</td>\n",
       "      <td>6040.0</td>\n",
       "      <td>0.265681</td>\n",
       "      <td>University of Alabama in Huntsville</td>\n",
       "      <td>Huntsville</td>\n",
       "      <td>AL</td>\n",
       "      <td>35899</td>\n",
       "      <td>34.724557</td>\n",
       "      <td>-86.640449</td>\n",
       "      <td>POINT (-86.640449 34.724557)</td>\n",
       "      <td>0.209912</td>\n",
       "    </tr>\n",
       "    <tr>\n",
       "      <th>2</th>\n",
       "      <td>100751</td>\n",
       "      <td>887</td>\n",
       "      <td>252</td>\n",
       "      <td>0.284104</td>\n",
       "      <td>The University of Alabama</td>\n",
       "      <td>Tuscaloosa</td>\n",
       "      <td>AL</td>\n",
       "      <td>35487-0100</td>\n",
       "      <td>33.211875</td>\n",
       "      <td>-87.545978</td>\n",
       "      <td>...</td>\n",
       "      <td>9754.0</td>\n",
       "      <td>0.286293</td>\n",
       "      <td>The University of Alabama</td>\n",
       "      <td>Tuscaloosa</td>\n",
       "      <td>AL</td>\n",
       "      <td>35487-0100</td>\n",
       "      <td>33.211875</td>\n",
       "      <td>-87.545978</td>\n",
       "      <td>POINT (-87.54597800000001 33.211875)</td>\n",
       "      <td>0.222572</td>\n",
       "    </tr>\n",
       "    <tr>\n",
       "      <th>3</th>\n",
       "      <td>100858</td>\n",
       "      <td>2396</td>\n",
       "      <td>526</td>\n",
       "      <td>0.219533</td>\n",
       "      <td>Auburn University</td>\n",
       "      <td>Auburn</td>\n",
       "      <td>AL</td>\n",
       "      <td>36849</td>\n",
       "      <td>32.599378</td>\n",
       "      <td>-85.488258</td>\n",
       "      <td>...</td>\n",
       "      <td>10610.0</td>\n",
       "      <td>0.251792</td>\n",
       "      <td>Auburn University</td>\n",
       "      <td>Auburn</td>\n",
       "      <td>AL</td>\n",
       "      <td>36849</td>\n",
       "      <td>32.599378</td>\n",
       "      <td>-85.488258</td>\n",
       "      <td>POINT (-85.488258 32.599378)</td>\n",
       "      <td>0.201145</td>\n",
       "    </tr>\n",
       "    <tr>\n",
       "      <th>4</th>\n",
       "      <td>101480</td>\n",
       "      <td>15</td>\n",
       "      <td>1</td>\n",
       "      <td>0.066667</td>\n",
       "      <td>Jacksonville State University</td>\n",
       "      <td>Jacksonville</td>\n",
       "      <td>AL</td>\n",
       "      <td>36265</td>\n",
       "      <td>33.822938</td>\n",
       "      <td>-85.765321</td>\n",
       "      <td>...</td>\n",
       "      <td>NaN</td>\n",
       "      <td>NaN</td>\n",
       "      <td>NaN</td>\n",
       "      <td>NaN</td>\n",
       "      <td>NaN</td>\n",
       "      <td>NaN</td>\n",
       "      <td>NaN</td>\n",
       "      <td>NaN</td>\n",
       "      <td>NaN</td>\n",
       "      <td>NaN</td>\n",
       "    </tr>\n",
       "    <tr>\n",
       "      <th>...</th>\n",
       "      <td>...</td>\n",
       "      <td>...</td>\n",
       "      <td>...</td>\n",
       "      <td>...</td>\n",
       "      <td>...</td>\n",
       "      <td>...</td>\n",
       "      <td>...</td>\n",
       "      <td>...</td>\n",
       "      <td>...</td>\n",
       "      <td>...</td>\n",
       "      <td>...</td>\n",
       "      <td>...</td>\n",
       "      <td>...</td>\n",
       "      <td>...</td>\n",
       "      <td>...</td>\n",
       "      <td>...</td>\n",
       "      <td>...</td>\n",
       "      <td>...</td>\n",
       "      <td>...</td>\n",
       "      <td>...</td>\n",
       "      <td>...</td>\n",
       "    </tr>\n",
       "    <tr>\n",
       "      <th>440</th>\n",
       "      <td>243780</td>\n",
       "      <td>4827</td>\n",
       "      <td>1097</td>\n",
       "      <td>0.227263</td>\n",
       "      <td>Purdue University-Main Campus</td>\n",
       "      <td>West Lafayette</td>\n",
       "      <td>IN</td>\n",
       "      <td>47907-2040</td>\n",
       "      <td>40.428206</td>\n",
       "      <td>-86.914435</td>\n",
       "      <td>...</td>\n",
       "      <td>28536.0</td>\n",
       "      <td>0.344713</td>\n",
       "      <td>Purdue University-Main Campus</td>\n",
       "      <td>West Lafayette</td>\n",
       "      <td>IN</td>\n",
       "      <td>47907-2040</td>\n",
       "      <td>40.428206</td>\n",
       "      <td>-86.914435</td>\n",
       "      <td>POINT (-86.914435 40.428206)</td>\n",
       "      <td>0.256347</td>\n",
       "    </tr>\n",
       "    <tr>\n",
       "      <th>441</th>\n",
       "      <td>412599</td>\n",
       "      <td>73</td>\n",
       "      <td>18</td>\n",
       "      <td>0.246575</td>\n",
       "      <td>Remington College-Memphis Campus</td>\n",
       "      <td>Memphis</td>\n",
       "      <td>TN</td>\n",
       "      <td>38132</td>\n",
       "      <td>35.071403</td>\n",
       "      <td>-89.989881</td>\n",
       "      <td>...</td>\n",
       "      <td>NaN</td>\n",
       "      <td>NaN</td>\n",
       "      <td>NaN</td>\n",
       "      <td>NaN</td>\n",
       "      <td>NaN</td>\n",
       "      <td>NaN</td>\n",
       "      <td>NaN</td>\n",
       "      <td>NaN</td>\n",
       "      <td>NaN</td>\n",
       "      <td>NaN</td>\n",
       "    </tr>\n",
       "    <tr>\n",
       "      <th>442</th>\n",
       "      <td>436818</td>\n",
       "      <td>33</td>\n",
       "      <td>5</td>\n",
       "      <td>0.151515</td>\n",
       "      <td>University of Connecticut-Waterbury Campus</td>\n",
       "      <td>Waterbury</td>\n",
       "      <td>CT</td>\n",
       "      <td>6702</td>\n",
       "      <td>41.555617</td>\n",
       "      <td>-73.039242</td>\n",
       "      <td>...</td>\n",
       "      <td>56.0</td>\n",
       "      <td>0.225806</td>\n",
       "      <td>University of Connecticut-Waterbury Campus</td>\n",
       "      <td>Waterbury</td>\n",
       "      <td>CT</td>\n",
       "      <td>6702</td>\n",
       "      <td>41.555617</td>\n",
       "      <td>-73.039242</td>\n",
       "      <td>POINT (-73.039242 41.555617)</td>\n",
       "      <td>0.184211</td>\n",
       "    </tr>\n",
       "    <tr>\n",
       "      <th>443</th>\n",
       "      <td>436827</td>\n",
       "      <td>7</td>\n",
       "      <td>2</td>\n",
       "      <td>0.285714</td>\n",
       "      <td>University of Connecticut-Avery Point</td>\n",
       "      <td>Groton</td>\n",
       "      <td>CT</td>\n",
       "      <td>06340-6097</td>\n",
       "      <td>41.316419</td>\n",
       "      <td>-72.065336</td>\n",
       "      <td>...</td>\n",
       "      <td>54.0</td>\n",
       "      <td>0.250000</td>\n",
       "      <td>University of Connecticut-Avery Point</td>\n",
       "      <td>Groton</td>\n",
       "      <td>CT</td>\n",
       "      <td>06340-6097</td>\n",
       "      <td>41.316419</td>\n",
       "      <td>-72.065336</td>\n",
       "      <td>POINT (-72.065336 41.316419)</td>\n",
       "      <td>0.200000</td>\n",
       "    </tr>\n",
       "    <tr>\n",
       "      <th>444</th>\n",
       "      <td>436836</td>\n",
       "      <td>12</td>\n",
       "      <td>2</td>\n",
       "      <td>0.166667</td>\n",
       "      <td>University of Connecticut-Stamford</td>\n",
       "      <td>Stamford</td>\n",
       "      <td>CT</td>\n",
       "      <td>06901-2315</td>\n",
       "      <td>41.056081</td>\n",
       "      <td>-73.542206</td>\n",
       "      <td>...</td>\n",
       "      <td>96.0</td>\n",
       "      <td>0.189723</td>\n",
       "      <td>University of Connecticut-Stamford</td>\n",
       "      <td>Stamford</td>\n",
       "      <td>CT</td>\n",
       "      <td>06901-2315</td>\n",
       "      <td>41.056081</td>\n",
       "      <td>-73.542206</td>\n",
       "      <td>POINT (-73.54220599999999 41.056081)</td>\n",
       "      <td>0.159468</td>\n",
       "    </tr>\n",
       "  </tbody>\n",
       "</table>\n",
       "<p>445 rows × 25 columns</p>\n",
       "</div>"
      ],
      "text/plain": [
       "     UNITID  MEN_x  WOMEN_x  W/M_Ratio_x  \\\n",
       "0    100663    307       87     0.283388   \n",
       "1    100706    650      224     0.344615   \n",
       "2    100751    887      252     0.284104   \n",
       "3    100858   2396      526     0.219533   \n",
       "4    101480     15        1     0.066667   \n",
       "..      ...    ...      ...          ...   \n",
       "440  243780   4827     1097     0.227263   \n",
       "441  412599     73       18     0.246575   \n",
       "442  436818     33        5     0.151515   \n",
       "443  436827      7        2     0.285714   \n",
       "444  436836     12        2     0.166667   \n",
       "\n",
       "                                       INSTNM_x          CITY_x STABBR_x  \\\n",
       "0           University of Alabama at Birmingham      Birmingham       AL   \n",
       "1           University of Alabama in Huntsville      Huntsville       AL   \n",
       "2                     The University of Alabama      Tuscaloosa       AL   \n",
       "3                             Auburn University          Auburn       AL   \n",
       "4                 Jacksonville State University    Jacksonville       AL   \n",
       "..                                          ...             ...      ...   \n",
       "440               Purdue University-Main Campus  West Lafayette       IN   \n",
       "441            Remington College-Memphis Campus         Memphis       TN   \n",
       "442  University of Connecticut-Waterbury Campus       Waterbury       CT   \n",
       "443       University of Connecticut-Avery Point          Groton       CT   \n",
       "444          University of Connecticut-Stamford        Stamford       CT   \n",
       "\n",
       "          ZIP_x  LATITUDE_x  LONGITUDE_x  ...  WOMEN_y  W/M_Ratio_y  \\\n",
       "0    35294-0110   33.505697   -86.799345  ...   2268.0     0.417065   \n",
       "1         35899   34.724557   -86.640449  ...   6040.0     0.265681   \n",
       "2    35487-0100   33.211875   -87.545978  ...   9754.0     0.286293   \n",
       "3         36849   32.599378   -85.488258  ...  10610.0     0.251792   \n",
       "4         36265   33.822938   -85.765321  ...      NaN          NaN   \n",
       "..          ...         ...          ...  ...      ...          ...   \n",
       "440  47907-2040   40.428206   -86.914435  ...  28536.0     0.344713   \n",
       "441       38132   35.071403   -89.989881  ...      NaN          NaN   \n",
       "442        6702   41.555617   -73.039242  ...     56.0     0.225806   \n",
       "443  06340-6097   41.316419   -72.065336  ...     54.0     0.250000   \n",
       "444  06901-2315   41.056081   -73.542206  ...     96.0     0.189723   \n",
       "\n",
       "                                       INSTNM_y          CITY_y  STABBR_y  \\\n",
       "0           University of Alabama at Birmingham      Birmingham        AL   \n",
       "1           University of Alabama in Huntsville      Huntsville        AL   \n",
       "2                     The University of Alabama      Tuscaloosa        AL   \n",
       "3                             Auburn University          Auburn        AL   \n",
       "4                                           NaN             NaN       NaN   \n",
       "..                                          ...             ...       ...   \n",
       "440               Purdue University-Main Campus  West Lafayette        IN   \n",
       "441                                         NaN             NaN       NaN   \n",
       "442  University of Connecticut-Waterbury Campus       Waterbury        CT   \n",
       "443       University of Connecticut-Avery Point          Groton        CT   \n",
       "444          University of Connecticut-Stamford        Stamford        CT   \n",
       "\n",
       "          ZIP_y  LATITUDE_y LONGITUDE_y                            geometry_y  \\\n",
       "0    35294-0110   33.505697  -86.799345          POINT (-86.799345 33.505697)   \n",
       "1         35899   34.724557  -86.640449          POINT (-86.640449 34.724557)   \n",
       "2    35487-0100   33.211875  -87.545978  POINT (-87.54597800000001 33.211875)   \n",
       "3         36849   32.599378  -85.488258          POINT (-85.488258 32.599378)   \n",
       "4           NaN         NaN         NaN                                   NaN   \n",
       "..          ...         ...         ...                                   ...   \n",
       "440  47907-2040   40.428206  -86.914435          POINT (-86.914435 40.428206)   \n",
       "441         NaN         NaN         NaN                                   NaN   \n",
       "442        6702   41.555617  -73.039242          POINT (-73.039242 41.555617)   \n",
       "443  06340-6097   41.316419  -72.065336          POINT (-72.065336 41.316419)   \n",
       "444  06901-2315   41.056081  -73.542206  POINT (-73.54220599999999 41.056081)   \n",
       "\n",
       "    PERCENT_WOMEN_y  \n",
       "0          0.294316  \n",
       "1          0.209912  \n",
       "2          0.222572  \n",
       "3          0.201145  \n",
       "4               NaN  \n",
       "..              ...  \n",
       "440        0.256347  \n",
       "441             NaN  \n",
       "442        0.184211  \n",
       "443        0.200000  \n",
       "444        0.159468  \n",
       "\n",
       "[445 rows x 25 columns]"
      ]
     },
     "execution_count": 11,
     "metadata": {},
     "output_type": "execute_result"
    }
   ],
   "source": [
    "df2000_2020"
   ]
  },
  {
   "cell_type": "code",
   "execution_count": 12,
   "id": "11ded2af",
   "metadata": {},
   "outputs": [],
   "source": [
    "# drop any rows with an NA in them - this will eliminate any information from 2020 that does not\n",
    "# have a pair in 2000 and vice versa\n",
    "df2000_2020_1 = df2000_2020.dropna(axis = 0)"
   ]
  },
  {
   "cell_type": "code",
   "execution_count": 13,
   "id": "784fe646",
   "metadata": {},
   "outputs": [
    {
     "name": "stdout",
     "output_type": "stream",
     "text": [
      "<class 'pandas.core.frame.DataFrame'>\n",
      "Int64Index: 391 entries, 0 to 444\n",
      "Data columns (total 25 columns):\n",
      " #   Column           Non-Null Count  Dtype  \n",
      "---  ------           --------------  -----  \n",
      " 0   UNITID           391 non-null    int64  \n",
      " 1   MEN_x            391 non-null    int64  \n",
      " 2   WOMEN_x          391 non-null    int64  \n",
      " 3   W/M_Ratio_x      391 non-null    float64\n",
      " 4   INSTNM_x         391 non-null    object \n",
      " 5   CITY_x           391 non-null    object \n",
      " 6   STABBR_x         391 non-null    object \n",
      " 7   ZIP_x            391 non-null    object \n",
      " 8   LATITUDE_x       391 non-null    float64\n",
      " 9   LONGITUDE_x      391 non-null    float64\n",
      " 10  geometry_x       391 non-null    object \n",
      " 11  TOTALSTUDENTS_x  391 non-null    int64  \n",
      " 12  PERCENT_WOMEN_x  391 non-null    float64\n",
      " 13  TOTALSTUDENTS_y  391 non-null    float64\n",
      " 14  MEN_y            391 non-null    float64\n",
      " 15  WOMEN_y          391 non-null    float64\n",
      " 16  W/M_Ratio_y      391 non-null    float64\n",
      " 17  INSTNM_y         391 non-null    object \n",
      " 18  CITY_y           391 non-null    object \n",
      " 19  STABBR_y         391 non-null    object \n",
      " 20  ZIP_y            391 non-null    object \n",
      " 21  LATITUDE_y       391 non-null    float64\n",
      " 22  LONGITUDE_y      391 non-null    float64\n",
      " 23  geometry_y       391 non-null    object \n",
      " 24  PERCENT_WOMEN_y  391 non-null    float64\n",
      "dtypes: float64(11), int64(4), object(10)\n",
      "memory usage: 79.4+ KB\n"
     ]
    }
   ],
   "source": [
    "df2000_2020_1.info()"
   ]
  },
  {
   "cell_type": "markdown",
   "id": "51df8251",
   "metadata": {},
   "source": [
    "Now we have a dataset containing only the universities with information in both 2000 and 2020.\n",
    "The X columns represent 2000 and Y columns represent 2020 data.\n",
    "\n",
    "Lets perform the dependent T test to see if the means are the same."
   ]
  },
  {
   "cell_type": "code",
   "execution_count": 14,
   "id": "7a3c8faa",
   "metadata": {},
   "outputs": [],
   "source": [
    "#import needed packages\n",
    "from scipy import stats\n",
    "import numpy as np"
   ]
  },
  {
   "cell_type": "markdown",
   "id": "60080e0f",
   "metadata": {},
   "source": [
    "Frist lets check for normality for the percentages of women at each time point."
   ]
  },
  {
   "cell_type": "code",
   "execution_count": 15,
   "id": "5e44acf9",
   "metadata": {},
   "outputs": [
    {
     "data": {
      "text/plain": [
       "<AxesSubplot:>"
      ]
     },
     "execution_count": 15,
     "metadata": {},
     "output_type": "execute_result"
    },
    {
     "data": {
      "image/png": "[encoded data removed]",
      "text/plain": [
       "<Figure size 432x288 with 1 Axes>"
      ]
     },
     "metadata": {
      "needs_background": "light"
     },
     "output_type": "display_data"
    }
   ],
   "source": [
    "df2000_2020_1['PERCENT_WOMEN_x'].hist()"
   ]
  },
  {
   "cell_type": "code",
   "execution_count": 16,
   "id": "ace84a6a",
   "metadata": {},
   "outputs": [
    {
     "data": {
      "text/plain": [
       "<AxesSubplot:>"
      ]
     },
     "execution_count": 16,
     "metadata": {},
     "output_type": "execute_result"
    },
    {
     "data": {
      "image/png": "[encoded data removed]",
      "text/plain": [
       "<Figure size 432x288 with 1 Axes>"
      ]
     },
     "metadata": {
      "needs_background": "light"
     },
     "output_type": "display_data"
    }
   ],
   "source": [
    "df2000_2020_1['PERCENT_WOMEN_y'].hist()"
   ]
  },
  {
   "cell_type": "markdown",
   "id": "151a8d8b",
   "metadata": {},
   "source": [
    "Both have a relatively normal shape here. I'm going to proceed with the test, and then compare the test to one with transformed data to see if there is a difference in the outcome."
   ]
  },
  {
   "cell_type": "code",
   "execution_count": 17,
   "id": "8c60f56d",
   "metadata": {},
   "outputs": [
    {
     "data": {
      "text/plain": [
       "Ttest_relResult(statistic=-8.008786999080716, pvalue=1.3493807289069653e-14)"
      ]
     },
     "execution_count": 17,
     "metadata": {},
     "output_type": "execute_result"
    }
   ],
   "source": [
    "#run a matched t test\n",
    "stats.ttest_rel(df2000_2020_1['PERCENT_WOMEN_x'], df2000_2020_1['PERCENT_WOMEN_y'])"
   ]
  },
  {
   "cell_type": "markdown",
   "id": "2c10143a",
   "metadata": {},
   "source": [
    "The results are significant (p < .05) therefore the means are different.\n",
    "\n",
    "There is a change in mean percentage of women from 2000 to 2020."
   ]
  },
  {
   "cell_type": "markdown",
   "id": "c9e13ff1",
   "metadata": {},
   "source": [
    "### Now lets double check the result with transformed data"
   ]
  },
  {
   "cell_type": "code",
   "execution_count": 18,
   "id": "376dc94a",
   "metadata": {
    "scrolled": true
   },
   "outputs": [
    {
     "name": "stderr",
     "output_type": "stream",
     "text": [
      "C:\\Users\\ering\\AppData\\Local\\Temp\\ipykernel_904\\768889910.py:2: SettingWithCopyWarning: \n",
      "A value is trying to be set on a copy of a slice from a DataFrame.\n",
      "Try using .loc[row_indexer,col_indexer] = value instead\n",
      "\n",
      "See the caveats in the documentation: https://pandas.pydata.org/pandas-docs/stable/user_guide/indexing.html#returning-a-view-versus-a-copy\n",
      "  df2000_2020_1['PERCENT_WOMEN_x_SQRT'] = np.sqrt(df2000_2020_1['PERCENT_WOMEN_x'])\n"
     ]
    }
   ],
   "source": [
    "#create a column of transformed \"percent women x\" data\n",
    "df2000_2020_1['PERCENT_WOMEN_x_SQRT'] = np.sqrt(df2000_2020_1['PERCENT_WOMEN_x'])"
   ]
  },
  {
   "cell_type": "code",
   "execution_count": 19,
   "id": "069403d3",
   "metadata": {},
   "outputs": [
    {
     "data": {
      "text/plain": [
       "<AxesSubplot:>"
      ]
     },
     "execution_count": 19,
     "metadata": {},
     "output_type": "execute_result"
    },
    {
     "data": {
      "image/png": "[encoded data removed]",
      "text/plain": [
       "<Figure size 432x288 with 1 Axes>"
      ]
     },
     "metadata": {
      "needs_background": "light"
     },
     "output_type": "display_data"
    }
   ],
   "source": [
    "#look at the transformed data for normality\n",
    "df2000_2020_1['PERCENT_WOMEN_x_SQRT'].hist()"
   ]
  },
  {
   "cell_type": "markdown",
   "id": "95ee5a94",
   "metadata": {},
   "source": [
    "Much more normally distributed thi time - we'll keep this."
   ]
  },
  {
   "cell_type": "code",
   "execution_count": 20,
   "id": "c9af3ecd",
   "metadata": {},
   "outputs": [
    {
     "name": "stderr",
     "output_type": "stream",
     "text": [
      "C:\\Users\\ering\\AppData\\Local\\Temp\\ipykernel_904\\1803914098.py:2: SettingWithCopyWarning: \n",
      "A value is trying to be set on a copy of a slice from a DataFrame.\n",
      "Try using .loc[row_indexer,col_indexer] = value instead\n",
      "\n",
      "See the caveats in the documentation: https://pandas.pydata.org/pandas-docs/stable/user_guide/indexing.html#returning-a-view-versus-a-copy\n",
      "  df2000_2020_1['PERCENT_WOMEN_y_SQRT'] = np.sqrt(df2000_2020_1['PERCENT_WOMEN_y'])\n"
     ]
    }
   ],
   "source": [
    "#create a column of transformed \"percent women y\" data\n",
    "df2000_2020_1['PERCENT_WOMEN_y_SQRT'] = np.sqrt(df2000_2020_1['PERCENT_WOMEN_y'])"
   ]
  },
  {
   "cell_type": "code",
   "execution_count": 21,
   "id": "3f9663a5",
   "metadata": {},
   "outputs": [
    {
     "data": {
      "text/plain": [
       "<AxesSubplot:>"
      ]
     },
     "execution_count": 21,
     "metadata": {},
     "output_type": "execute_result"
    },
    {
     "data": {
      "image/png": "[encoded data removed]",
      "text/plain": [
       "<Figure size 432x288 with 1 Axes>"
      ]
     },
     "metadata": {
      "needs_background": "light"
     },
     "output_type": "display_data"
    }
   ],
   "source": [
    "#look at transformed data for normality\n",
    "df2000_2020_1['PERCENT_WOMEN_y_SQRT'].hist()"
   ]
  },
  {
   "cell_type": "markdown",
   "id": "8ce83be1",
   "metadata": {},
   "source": [
    "This looks much more normal as well"
   ]
  },
  {
   "cell_type": "code",
   "execution_count": 22,
   "id": "f257d6d8",
   "metadata": {},
   "outputs": [
    {
     "data": {
      "text/plain": [
       "Ttest_relResult(statistic=-8.18094883032384, pvalue=4.020808591328195e-15)"
      ]
     },
     "execution_count": 22,
     "metadata": {},
     "output_type": "execute_result"
    }
   ],
   "source": [
    "# perform matched t test on transformed data to see if result is different from result from un-transformed data\n",
    "stats.ttest_rel(df2000_2020_1['PERCENT_WOMEN_x_SQRT'], df2000_2020_1['PERCENT_WOMEN_y_SQRT'])"
   ]
  },
  {
   "cell_type": "markdown",
   "id": "6b86e7bb",
   "metadata": {},
   "source": [
    "The test is still significant - the means are different"
   ]
  },
  {
   "cell_type": "markdown",
   "id": "d8fd7e7e",
   "metadata": {},
   "source": [
    "### Lets look at means and see what's going on here"
   ]
  },
  {
   "cell_type": "code",
   "execution_count": 23,
   "id": "37638d2e",
   "metadata": {},
   "outputs": [
    {
     "data": {
      "text/plain": [
       "0.18530742951486728"
      ]
     },
     "execution_count": 23,
     "metadata": {},
     "output_type": "execute_result"
    }
   ],
   "source": [
    "mean2000 = df2000_2020_1['PERCENT_WOMEN_x'].mean()\n",
    "mean2000"
   ]
  },
  {
   "cell_type": "code",
   "execution_count": 24,
   "id": "423fa6a8",
   "metadata": {},
   "outputs": [
    {
     "data": {
      "text/plain": [
       "0.22541610322939992"
      ]
     },
     "execution_count": 24,
     "metadata": {},
     "output_type": "execute_result"
    }
   ],
   "source": [
    "mean2020 = df2000_2020_1['PERCENT_WOMEN_y'].mean()\n",
    "mean2020"
   ]
  },
  {
   "cell_type": "markdown",
   "id": "4d6a41dd",
   "metadata": {},
   "source": [
    "In 2000 the Mean percentage of women was 18.53%. It had risen to 22.54% by 2020. This is not a large change over twenty years, but it is statistically significant."
   ]
  },
  {
   "cell_type": "markdown",
   "id": "3d8c3f2e",
   "metadata": {},
   "source": [
    "Is the subset of the 2020 data matched to the 2000 data representative of the whole of the 2020 data?\n",
    "Check and see if the means are the same or different..."
   ]
  },
  {
   "cell_type": "code",
   "execution_count": 25,
   "id": "ed2632ee",
   "metadata": {},
   "outputs": [
    {
     "data": {
      "text/plain": [
       "0.2256101570108995"
      ]
     },
     "execution_count": 25,
     "metadata": {},
     "output_type": "execute_result"
    }
   ],
   "source": [
    "df2020['PERCENT_WOMEN'].mean()"
   ]
  },
  {
   "cell_type": "code",
   "execution_count": 26,
   "id": "40411f79",
   "metadata": {},
   "outputs": [],
   "source": [
    "from scipy.stats import ttest_ind"
   ]
  },
  {
   "cell_type": "code",
   "execution_count": 27,
   "id": "d7caba51",
   "metadata": {},
   "outputs": [
    {
     "data": {
      "text/plain": [
       "Ttest_indResult(statistic=-0.025061216742057236, pvalue=0.9800103331954083)"
      ]
     },
     "execution_count": 27,
     "metadata": {},
     "output_type": "execute_result"
    }
   ],
   "source": [
    "ttest_ind(df2000_2020_1['PERCENT_WOMEN_y'], df2020['PERCENT_WOMEN'])"
   ]
  },
  {
   "cell_type": "markdown",
   "id": "ef083682",
   "metadata": {},
   "source": [
    "The pvalue is not significant - the means are not different.\n",
    "We can say that the subset of the 2020 data matched to the 2000 data is the same. It is representative."
   ]
  },
  {
   "cell_type": "code",
   "execution_count": null,
   "id": "c5f14091",
   "metadata": {},
   "outputs": [],
   "source": []
  }
 ],
 "metadata": {
  "kernelspec": {
   "display_name": "Python 3 (ipykernel)",
   "language": "python",
   "name": "python3"
  },
  "language_info": {
   "codemirror_mode": {
    "name": "ipython",
    "version": 3
   },
   "file_extension": ".py",
   "mimetype": "text/x-python",
   "name": "python",
   "nbconvert_exporter": "python",
   "pygments_lexer": "ipython3",
   "version": "3.8.13"
  }
 },
 "nbformat": 4,
 "nbformat_minor": 5
}
